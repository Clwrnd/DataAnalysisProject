{
 "cells": [
  {
   "cell_type": "code",
   "execution_count": 1,
   "id": "605c09c8-7ee2-40a5-b6cf-90a8c6e653fe",
   "metadata": {},
   "outputs": [],
   "source": [
    "import pandas as pd"
   ]
  },
  {
   "cell_type": "markdown",
   "id": "e951de49-d370-454a-a05d-fbad4cf67e1f",
   "metadata": {},
   "source": [
    "# Analyse de données relatives à la plateforme Parcoursup"
   ]
  },
  {
   "cell_type": "markdown",
   "id": "78987f28-e386-4ce6-898f-13a172370099",
   "metadata": {},
   "source": [
    "## I) Introduction"
   ]
  },
  {
   "cell_type": "markdown",
   "id": "79762980-ec03-4304-9b18-2cc5e3e9486b",
   "metadata": {},
   "source": [
    "**1) Description et origne des datasets.**"
   ]
  },
  {
   "cell_type": "markdown",
   "id": "1c97c8d0-b004-4b4e-88e0-5118c62ee38c",
   "metadata": {},
   "source": [
    "Tout d'abord qu'est ce que **Parcoursup** ?\n",
    "\n",
    "Parcoursup est la plateforme **nationale** de préinscription en première année de l’enseignement supérieur en France. \\\n",
    "Cette dernière permet aux étudiants (de nationalité française et résidant en France ou non) entrant ou se réorientant en première année d'études supérieures de formuler leurs voeux pour différentes formations offertes par les établissements d'enseignement supérieur français du monde entier. \\\n",
    "Cela en passant par l'intermédiaire d'une plateforme Web: **https://www.parcoursup.gouv.fr/**"
   ]
  },
  {
   "cell_type": "markdown",
   "id": "222a0531-caa1-45b8-99b4-1a6bf7d0a553",
   "metadata": {},
   "source": [
    "Cette plateforme appartenant au gouvernement français et les démarches s'effectuant exclusivement en ligne, il a été possible pour ce dernier de récolter de nombreuses données quant à Parcoursup. Celles-ci sont ainsi mises à disposition librement par le gouvernement sur le site open data du **ministère de l'enseignement supérieur et de la recherche:** \\\n",
    "**https://data.enseignementsup-recherche.gouv.fr/pages/explorer/?sort=modified&refine.keyword=parcoursup** *(1)*"
   ]
  },
  {
   "cell_type": "markdown",
   "id": "52cb0eb9-131e-41eb-9de6-d5b2df17efec",
   "metadata": {},
   "source": [
    "Parmis ces datasets nous en exploiterons principalement deux types: \n",
    "1. **Les Voeux de poursuite d'études et de réorientation dans l'enseignement supérieur et réponses des établissements** pour les années allant de 2018 à 2023 tout deux inclus:  **https://github.com/Clwrnd/DataAnalyticsProject/tree/main/DataSet_Voeux_RepEtablissement**\n",
    "2. **Les propositions d'admission dans l'enseignement supérieur des élèves de terminale diplômés du baccalauréat général selon leurs enseignements de spécialité** pour les années 2021 et 2022: **https://github.com/Clwrnd/DataAnalyticsProject/tree/main/DataSet_VoeuxParSpe**"
   ]
  },
  {
   "cell_type": "markdown",
   "id": "879882d0-4ae8-4152-9611-8ba30508652d",
   "metadata": {},
   "source": [
    "On trouvera ci-joint les documents et liens utiles à la compréhension et lecture des différents datasets:\n",
    "\n",
    "1. Pour le premier type, on pourra se référer au lien *(1)* en choisissant l'année souhaitée et en se rendant dans la rubrique \"information\". On a de plus pour chaque année une méthodologie détaillé ici: **https://github.com/Clwrnd/DataAnalyticsProject/tree/main/DataSet_Voeux_RepEtablissement/Methodologie**\n",
    "2. Pour le deuxième type: **https://data.enseignementsup-recherche.gouv.fr/explore/dataset/fr-esr-parcoursup-enseignements-de-specialite-bacheliers-generaux-2/information/**.  Et pour une méthodologie plus détaillé: **https://github.com/Clwrnd/DataAnalyticsProject/blob/main/DataSet_VoeuxParSpe/m%C3%A9thodo_OD_EDS_21_22.pdf**"
   ]
  },
  {
   "cell_type": "markdown",
   "id": "e66b2e7e-4a8a-4cd8-a59f-c31420f7abcf",
   "metadata": {},
   "source": [
    "**2) Informations notables sur les datasets**"
   ]
  },
  {
   "cell_type": "markdown",
   "id": "47cde4de-f841-42ad-b3d8-51f2c87747af",
   "metadata": {},
   "source": [
    "Ici sont évoquées les informations notables des documents et liens précédents qui pourront éventuellement être nécéssaires à une bonne analyse des données. En gardant à l'esprit qu'il soit possible que cette liste ne soit pas exhaustive et qu'au besoin il faudra se réferer aux documents précédents. \\\n",
    "Pour le **premier type** de datasets, on peut relever comme informations importantes:\n",
    "\n",
    "1. **Aucun** de ces datasets ne prend en compte les formation en **apprentissage**. Il sera ainsi donc impossible de tirer quelconque conclusion à ce propos.\n",
    "2. Pour l'année 2018, le terme \"endo-recrutement (CPGE,BTS)\" fait référence au libélé: \"Le nombre de candidats admis en BTS ou en CPGE et issus de leur lycée\" pour les années suivantes et pour le nom de colonne correspondante de la même année. Ce libélé explicitant le précédent.\n",
    "3. Tout les établissements d'enseignement supérieur français n'effectue pas leurs recrutements sur Parcoursup. Ces derniers pouvant être plus ou moins nombreux selon le domaine. Il est important de garder cela à l'esprit avant d'effectuer quelconque conclusion.\n",
    "4. Certains voeux se composent de sous-voeux représentant une formation dans un établissement précis. (Exemple: Voeux -> INSA, Sous-voeux -> INSA Strasbourg).\n",
    "5. La somme des admis par phase peut être inférieur au total du nombre d’admis à cause des candidats admis hors phases.\n",
    "6. En 2020, ont été ajouté les données cartographiques et deux nouveaux indicateurs *(voir document méthodologie 2020)*.\n",
    "7. En 2021, la mention \"très bien\" a été détaillé grâce à \"avec/sans félicitation du jury\". D'autres changements ont aussi été effectué sur les groupes d'appelés *(voir document méthodologie 2021)*.\n",
    "8. Les deux indicateurs ajoutés en 2020 ne prennent en compte uniquement que les étudiants scolarisés en France ou de nationalité européenne. De plus, le mode de calcul de ces indicateurs diffèrent entre 2020/2021 et 2022/2023. Il est spécifié qu'il est **impossible** de recalculer ces indicateurs avec les données open data.\n",
    "\n",
    "Pour le **deuxième type** de dataset: \n",
    "\n",
    "1. Les enseignements \"Arts\" et \"Littérature\" se décline en plusieurs sous-enseignements plus spécifique.\n",
    "2. La somme des candidats ayant confirmé un voeu dans chaque formation ne correspond pas au total des candidats car un candidat est donc compté autant de fois qu'il a fait de voeux dans des formations différentes. De même pour les propositions d'admissions. En revanche, les candidats ne peuvent accepter qu'une seule proposition d'admission. Donc dans la colonne \"Nb de candidats bacheliers ayant accepté une proposition d'admission\", on peut faire la somme des candidats pour chaque formation."
   ]
  },
  {
   "cell_type": "markdown",
   "id": "db902c09-7ee5-488b-a8d0-443f45c55b4e",
   "metadata": {},
   "source": [
    "**3) Objectifs**"
   ]
  },
  {
   "cell_type": "markdown",
   "id": "04f512e4-c636-4472-941e-e04d22385d0b",
   "metadata": {},
   "source": [
    "Les points et objectifs précis seront précsiés tout au long de l'avancement de l'analyse mais on peut cependant déjà donner un point de vue global de ces derniers:\n",
    "\n",
    "1. Vérification de faits dont la véracité à déjà été prouvée ou dont la véracité est considérée à juste titre comme logique et naturelle\n",
    "2. Tentatives d'extraction de lien de corrélation dans le but d'essayer de tirer de nouvelles conclusions\n",
    "3. Tentative de mise au point d'un modèle prédictif permettant de donner les chances d'acceptations dans une certaine formation en fonction de différents facteurs."
   ]
  },
  {
   "cell_type": "markdown",
   "id": "22e57f6f-2430-43d1-94db-287858d89250",
   "metadata": {},
   "source": [
    "## II) Analyse"
   ]
  },
  {
   "cell_type": "markdown",
   "id": "2a45a83c-11cf-4547-bacd-52cfe1de5c6b",
   "metadata": {},
   "source": [
    "**1) Préliminaires: Nettoyage des données et analyse explorative**"
   ]
  },
  {
   "cell_type": "code",
   "execution_count": 2,
   "id": "2d99f481-b955-43bf-b87f-231bf7b5ce03",
   "metadata": {},
   "outputs": [],
   "source": [
    "# Création de tous les DatasFrames\n",
    "#Type 1:\n",
    "dvre2023_df = pd.read_csv(\"DataSet_Voeux_RepEtablissement/fr-esr-parcoursup_2023.csv\",encoding=\"utf8\",sep=\";\")\n",
    "dvre2022_df = pd.read_csv(\"DataSet_Voeux_RepEtablissement/fr-esr-parcoursup_2022.csv\",encoding=\"utf8\",sep=\";\")\n",
    "dvre2021_df = pd.read_csv(\"DataSet_Voeux_RepEtablissement/fr-esr-parcoursup_2021.csv\",encoding=\"utf8\",sep=\";\")\n",
    "dvre2020_df = pd.read_csv(\"DataSet_Voeux_RepEtablissement/fr-esr-parcoursup_2020.csv\",encoding=\"utf8\",sep=\";\")\n",
    "dvre2019_df = pd.read_csv(\"DataSet_Voeux_RepEtablissement/fr-esr-parcoursup_2019.csv\",encoding=\"utf8\",sep=\";\")\n",
    "dvre2018_df = pd.read_csv(\"DataSet_Voeux_RepEtablissement/fr-esr-parcoursup_2018.csv\",encoding=\"utf8\",sep=\";\")\n",
    "\n",
    "\n",
    "#Type 2:\n",
    "dvps_df = pd.read_csv(\"DataSet_VoeuxParSpe/fr-esr-parcoursup-enseignements-de-specialite-bacheliers-generaux-2.csv\",encoding=\"utf8\",sep=\";\")"
   ]
  },
  {
   "cell_type": "markdown",
   "id": "b211c7c6-1453-4019-9340-ee6628e488d4",
   "metadata": {},
   "source": [
    "**a)** Commençons par éxaminer les éventuelles différences au niveau de la structure des dataframes de type 1."
   ]
  },
  {
   "cell_type": "code",
   "execution_count": 3,
   "id": "f3a0b2dd-aab9-4d55-bfe6-eeb2023debfc",
   "metadata": {},
   "outputs": [
    {
     "name": "stdout",
     "output_type": "stream",
     "text": [
      "118 118 118 115 92 85\n"
     ]
    }
   ],
   "source": [
    "#Nombre de colonnes dans les différents datasets\n",
    "print (len(dvre2023_df.columns),len(dvre2022_df.columns),len(dvre2021_df.columns),  \n",
    "       len(dvre2020_df.columns),len(dvre2019_df.columns),len(dvre2018_df.columns))"
   ]
  },
  {
   "cell_type": "code",
   "execution_count": 4,
   "id": "779f9085-2176-4289-a69a-d6897fd76575",
   "metadata": {},
   "outputs": [
    {
     "name": "stdout",
     "output_type": "stream",
     "text": [
      "set()\n",
      "{'Dont taux d’accès des candidats ayant un bac général ayant postulé à la formation', 'Part des terminales technologiques qui étaient en position de recevoir une proposition en phase principale', 'Part des terminales générales qui étaient en position de recevoir une proposition en phase principale', 'Taux d’accès des candidats ayant postulé à la formation (ratio entre le dernier appelé et le nombre vœux PP)', 'Taux d’accès', 'Dont taux d’accès des candidats ayant un bac professionnel ayant postulé à la formation', 'COD_AFF_FORM', 'Dont taux d’accès des candidats ayant un bac technologique ayant postulé à la formation', 'Part des terminales professionnelles qui étaient en position de recevoir une proposition en phase principale', 'cod_aff_form'}\n"
     ]
    }
   ],
   "source": [
    "#Différences au niveau des libéllés de colonnes les années 2023,2022,2021\n",
    "print ( set(dvre2023_df.columns) ^ set(dvre2022_df.columns) )\n",
    "print ( set (dvre2022_df.columns) ^ set(dvre2021_df.columns) )"
   ]
  },
  {
   "cell_type": "markdown",
   "id": "73832528-788f-4016-814b-c42cb4071e73",
   "metadata": {},
   "source": [
    "On constate que pour ces années on a exactement la même structure, entre 2022 et 2021 seuls les noms des colonnes diffèrent mais elles représentent cependant les **mêmes données** (en gardant en tête les remarques faites au sujet de ces indicateurs dans le point I.2). On peut ainsi renommer les colonnes de l'années 2021 pour faciliter l'analyse."
   ]
  },
  {
   "cell_type": "code",
   "execution_count": 5,
   "id": "5e027aa7-ed4c-4183-8a37-f632a48b96af",
   "metadata": {},
   "outputs": [],
   "source": [
    "dvre2021_df = dvre2021_df.rename(columns={'Dont taux d’accès des candidats ayant un bac professionnel ayant postulé à la formation': \n",
    "                                          'Part des terminales professionnelles qui étaient en position de recevoir une proposition en phase principale'\n",
    "                                          ,'Dont taux d’accès des candidats ayant un bac technologique ayant postulé à la formation':\n",
    "                                          'Part des terminales technologiques qui étaient en position de recevoir une proposition en phase principale',\n",
    "                                         'Dont taux d’accès des candidats ayant un bac général ayant postulé à la formation':\n",
    "                                          'Part des terminales générales qui étaient en position de recevoir une proposition en phase principale',\n",
    "                                          'COD_AFF_FORM':'cod_aff_form',\n",
    "                                     'Taux d’accès des candidats ayant postulé à la formation (ratio entre le dernier appelé et le nombre vœux PP)':\n",
    "                                         'Taux d’accès'                                       \n",
    "                                         })"
   ]
  },
  {
   "cell_type": "markdown",
   "id": "53c28063-5a08-4a5e-b734-2a45fe0ab779",
   "metadata": {},
   "source": [
    "Examinons maintant les colonnes manquantes des autres années:"
   ]
  },
  {
   "cell_type": "code",
   "execution_count": 6,
   "id": "87731d8f-472c-442a-bf75-1820f34df1e6",
   "metadata": {},
   "outputs": [
    {
     "name": "stdout",
     "output_type": "stream",
     "text": [
      "{'composante_id_paysage', 'Taux d’accès', 'Commune de l’établissement', 'Part des terminales technologiques qui étaient en position de recevoir une proposition en phase principale', 'list_com', 'Dont % d’admis avec mention (BP)', 'Filière de formation.1', 'Dont % d’admis avec mention (BG)', 'Dont effectif des admis néo bacheliers avec mention Très Bien avec félicitations au bac', 'Filière de formation détaillée bis', \"Concours communs et banque d'épreuves\", 'etablissement_id_paysage', 'Dont % d’admis avec mention (BT)', 'Part des terminales générales qui étaient en position de recevoir une proposition en phase principale', '% d’admis néo bacheliers avec mention Très Bien avec félicitations au bac', 'Part des terminales professionnelles qui étaient en position de recevoir une proposition en phase principale', 'cod_aff_form'}\n",
      "{'Regroupement 5 effectué par les formations pour les classements', 'Dont taux d’accès des candidats ayant un bac général ayant postulé à la formation', 'Regroupement 3 effectué par les formations pour les classements', 'Rang du dernier appelé du groupe 5', 'Sélectivité', 'COD_AFF_FORM', 'Indicateur Parcoursup du taux d’accès des candidats ayant postulé à la formation (ratio entre le dernier appelé et le dernier classé)', 'Regroupement 4 effectué par les formations pour les classements', 'Effectif des autres candidats ayant reçu une proposition d’admission de la part de l’établissement', 'Rang du dernier appelé du groupe 4', 'Dont taux d’accès des candidats ayant un bac technologique ayant postulé à la formation', 'Rang du dernier appelé du groupe 3', 'Dont effectif des candidats boursiers en terminale générale ayant reçu une proposition d’admission de la part de l’établissement', 'Regroupement 1 effectué par les formations pour les classements', 'Effectif des candidats en terminale technologique ayant reçu une proposition d’admission de la part de l’établissement', 'Rang du dernier appelé du groupe 1', 'Rang du dernier appelé du groupe 2', 'Regroupement 2 effectué par les formations pour les classements', 'Dont effectif des candidats boursiers en terminale technologique ayant reçu une proposition d’admission de la part de l’établissement', 'Effectif des candidats en terminale professionnelle ayant reçu une proposition d’admission de la part de l’établissement', 'Dont effectif des candidats boursiers en terminale générale professionnelle ayant reçu une proposition d’admission de la part de l’établissement', 'Filière de formation détaillée.1', 'Dont taux d’accès des candidats ayant un bac professionnel ayant postulé à la formation', 'Effectif des candidats en terminale générale ayant reçu une proposition d’admission de la part de l’établissement'}\n",
      "{'% d’admis ayant reçu leur proposition d’admission avant la fin de la procédure principale', 'Statut de l’établissement de la filière de formation (public, privé…)', '% d’admis ayant reçu leur proposition d’admission avant le baccalauréat', 'Dont effectif des admis ayant reçu leur proposition d’admission avant la fin de la procédure principale', \"Dont effectif des admis ayant reçu leur proposition d’admission à l'ouverture de la procédure principale\", \"% d’admis ayant reçu leur proposition d’admission à l'ouverture de la procédure principale\", 'Dont effectif des admis ayant reçu leur proposition d’admission avant le baccalauréat'}\n"
     ]
    }
   ],
   "source": [
    "print( set(dvre2021_df.columns) - set(dvre2020_df.columns) )\n",
    "print( set(dvre2020_df.columns) - set(dvre2019_df.columns) )\n",
    "print( set(dvre2019_df.columns) - set(dvre2018_df.columns) )"
   ]
  },
  {
   "cell_type": "markdown",
   "id": "e2c20765-5068-40f0-8d96-abe3ceb958c2",
   "metadata": {},
   "source": [
    "On remarque que certains indicateurs manquants sont ceux mentionnés en introduction (cela est donc cohérent), d'autres sont des affinages de certains indicateurs. Au vu de leurs grandes similarités structurelles, il n'est pas insensée de vouloir et de pouvoir effectuer des comparaisons et analyses communes entres ces datasets. Il faudra cependant prendre ces différences de structure en compte lors de l'analyse. \n",
    "\n",
    "**Cette première phase préliminaire nous permet de voir quelles indicateurs pourront être examinés sur quelles périodes de temps**"
   ]
  },
  {
   "cell_type": "markdown",
   "id": "ae17f547-6512-49db-9f75-29ba8332e664",
   "metadata": {},
   "source": [
    "**b)** Examinons maintenant les données un peu plus en détails et essayont de faire un \"tri\" parmis ces-dernirèes."
   ]
  },
  {
   "cell_type": "code",
   "execution_count": 7,
   "id": "4692547a-393d-45ab-8cb1-9da7594efd93",
   "metadata": {},
   "outputs": [
    {
     "data": {
      "text/plain": [
       "['Session',\n",
       " 'Statut de l’établissement de la filière de formation (public, privé…)',\n",
       " \"Code UAI de l'établissement\",\n",
       " 'Établissement',\n",
       " 'Code départemental de l’établissement',\n",
       " 'Département de l’établissement',\n",
       " 'Région de l’établissement',\n",
       " 'Académie de l’établissement',\n",
       " 'Commune de l’établissement',\n",
       " 'Filière de formation',\n",
       " 'Sélectivité',\n",
       " 'Filière de formation très agrégée',\n",
       " 'Filière de formation détaillée',\n",
       " 'Filière de formation.1',\n",
       " 'Filière de formation détaillée bis',\n",
       " 'Filière de formation très détaillée',\n",
       " 'Coordonnées GPS de la formation',\n",
       " 'Capacité de l’établissement par formation',\n",
       " 'Effectif total des candidats pour une formation',\n",
       " 'Dont effectif des candidates pour une formation',\n",
       " 'Effectif total des candidats en phase principale',\n",
       " 'Dont effectif des candidats ayant postulé en internat',\n",
       " 'Effectif des candidats néo bacheliers généraux en phase principale',\n",
       " 'Dont effectif des candidats boursiers néo bacheliers généraux en phase principale',\n",
       " 'Effectif des candidats néo bacheliers technologiques en phase principale',\n",
       " 'Dont effectif des candidats boursiers néo bacheliers technologiques en phase principale',\n",
       " 'Effectif des candidats néo bacheliers professionnels en phase principale',\n",
       " 'Dont effectif des candidats boursiers néo bacheliers professionnels en phase principale',\n",
       " 'Effectif des autres candidats en phase principale',\n",
       " 'Effectif total des candidats en phase complémentaire',\n",
       " 'Effectif des candidats néo bacheliers généraux en phase complémentaire',\n",
       " 'Effectif des candidats néo bacheliers technologique en phase complémentaire',\n",
       " 'Effectif des candidats néo bacheliers professionnels en phase complémentaire',\n",
       " 'Effectifs des autres candidats en phase complémentaire',\n",
       " 'Effectif total des candidats classés par l’établissement en phase principale',\n",
       " 'Effectif des candidats classés par l’établissement en phase complémentaire',\n",
       " 'Effectif des candidats classés par l’établissement en internat (CPGE)',\n",
       " 'Effectif des candidats classés par l’établissement hors internat (CPGE)',\n",
       " 'Effectif des candidats néo bacheliers généraux classés par l’établissement',\n",
       " 'Dont effectif des candidats boursiers néo bacheliers généraux classés par l’établissement',\n",
       " 'Effectif des candidats néo bacheliers technologiques classés par l’établissement',\n",
       " 'Dont effectif des candidats boursiers néo bacheliers technologiques classés par l’établissement',\n",
       " 'Effectif des candidats néo bacheliers professionnels classés par l’établissement',\n",
       " 'Dont effectif des candidats boursiers néo bacheliers professionnels classés par l’établissement',\n",
       " 'Effectif des autres candidats classés par l’établissement',\n",
       " 'Effectif total des candidats ayant reçu une proposition d’admission de la part de l’établissement',\n",
       " 'Effectif total des candidats ayant accepté la proposition de l’établissement (admis)',\n",
       " 'Dont effectif des candidates admises',\n",
       " 'Effectif des admis en phase principale',\n",
       " 'Effectif des admis en phase complémentaire',\n",
       " \"Dont effectif des admis ayant reçu leur proposition d’admission à l'ouverture de la procédure principale\",\n",
       " 'Dont effectif des admis ayant reçu leur proposition d’admission avant le baccalauréat',\n",
       " 'Dont effectif des admis ayant reçu leur proposition d’admission avant la fin de la procédure principale',\n",
       " 'Dont effectif des admis en internat',\n",
       " 'Dont effectif des admis boursiers néo bacheliers',\n",
       " 'Effectif des admis néo bacheliers',\n",
       " 'Effectif des admis néo bacheliers généraux',\n",
       " 'Effectif des admis néo bacheliers technologiques',\n",
       " 'Effectif des admis néo bacheliers professionnels',\n",
       " 'Effectif des autres candidats admis',\n",
       " 'Dont effectif des admis néo bacheliers sans information sur la mention au bac',\n",
       " 'Dont effectif des admis néo bacheliers sans mention au bac',\n",
       " 'Dont effectif des admis néo bacheliers avec mention Assez Bien au bac',\n",
       " 'Dont effectif des admis néo bacheliers avec mention Bien au bac',\n",
       " 'Dont effectif des admis néo bacheliers avec mention Très Bien au bac',\n",
       " 'Dont effectif des admis néo bacheliers avec mention Très Bien avec félicitations au bac',\n",
       " 'Effectif des admis néo bacheliers généraux ayant eu une mention au bac',\n",
       " 'Effectif des admis néo bacheliers technologiques ayant eu une mention au bac',\n",
       " 'Effectif des admis néo bacheliers professionnels ayant eu une mention au bac',\n",
       " 'Dont effectif des admis issus du même établissement (BTS/CPGE)',\n",
       " 'Dont effectif des admises issues du même établissement (BTS/CPGE)',\n",
       " 'Dont effectif des admis issus de la même académie',\n",
       " 'Dont effectif des admis issus de la même académie (Paris/Créteil/Versailles réunies)',\n",
       " \"% d’admis ayant reçu leur proposition d’admission à l'ouverture de la procédure principale\",\n",
       " '% d’admis ayant reçu leur proposition d’admission avant le baccalauréat',\n",
       " '% d’admis ayant reçu leur proposition d’admission avant la fin de la procédure principale',\n",
       " '% d’admis dont filles',\n",
       " '% d’admis néo bacheliers issus de la même académie',\n",
       " '% d’admis néo bacheliers issus de la même académie (Paris/Créteil/Versailles réunies)',\n",
       " '% d’admis néo bacheliers issus du même établissement (BTS/CPGE)',\n",
       " '% d’admis néo bacheliers boursiers',\n",
       " '% d’admis néo bacheliers',\n",
       " '% d’admis néo bacheliers sans information sur la mention au bac',\n",
       " '% d’admis néo bacheliers sans mention au bac',\n",
       " '% d’admis néo bacheliers avec mention Assez Bien au bac',\n",
       " '% d’admis néo bacheliers avec mention Bien au bac',\n",
       " '% d’admis néo bacheliers avec mention Très Bien au bac',\n",
       " '% d’admis néo bacheliers avec mention Très Bien avec félicitations au bac',\n",
       " '% d’admis néo bacheliers généraux',\n",
       " 'Dont % d’admis avec mention (BG)',\n",
       " '% d’admis néo bacheliers technologiques',\n",
       " 'Dont % d’admis avec mention (BT)',\n",
       " '% d’admis néo bacheliers professionnels',\n",
       " 'Dont % d’admis avec mention (BP)',\n",
       " 'Effectif des candidats en terminale générale ayant reçu une proposition d’admission de la part de l’établissement',\n",
       " 'Dont effectif des candidats boursiers en terminale générale ayant reçu une proposition d’admission de la part de l’établissement',\n",
       " 'Effectif des candidats en terminale technologique ayant reçu une proposition d’admission de la part de l’établissement',\n",
       " 'Dont effectif des candidats boursiers en terminale technologique ayant reçu une proposition d’admission de la part de l’établissement',\n",
       " 'Effectif des candidats en terminale professionnelle ayant reçu une proposition d’admission de la part de l’établissement',\n",
       " 'Dont effectif des candidats boursiers en terminale générale professionnelle ayant reçu une proposition d’admission de la part de l’établissement',\n",
       " 'Effectif des autres candidats ayant reçu une proposition d’admission de la part de l’établissement',\n",
       " 'Regroupement 1 effectué par les formations pour les classements',\n",
       " 'Rang du dernier appelé du groupe 1',\n",
       " 'Regroupement 2 effectué par les formations pour les classements',\n",
       " 'Rang du dernier appelé du groupe 2',\n",
       " 'Regroupement 3 effectué par les formations pour les classements',\n",
       " 'Rang du dernier appelé du groupe 3',\n",
       " 'list_com',\n",
       " 'tri',\n",
       " 'cod_aff_form',\n",
       " \"Concours communs et banque d'épreuves\",\n",
       " 'Lien de la formation sur la plateforme Parcoursup',\n",
       " 'Taux d’accès',\n",
       " 'Part des terminales générales qui étaient en position de recevoir une proposition en phase principale',\n",
       " 'Part des terminales technologiques qui étaient en position de recevoir une proposition en phase principale',\n",
       " 'Part des terminales professionnelles qui étaient en position de recevoir une proposition en phase principale',\n",
       " 'etablissement_id_paysage',\n",
       " 'composante_id_paysage']"
      ]
     },
     "execution_count": 7,
     "metadata": {},
     "output_type": "execute_result"
    }
   ],
   "source": [
    "#Aperçu des colonnes (Type 1)\n",
    "#On affiche uniquement les colonnes du dataframes de 2023 car ce-dernier est le plus complets et reprend les colonnes des précédents\n",
    "dvre2023_df.columns.to_list()"
   ]
  },
  {
   "cell_type": "code",
   "execution_count": 16,
   "id": "c536be00-a2bc-4c5f-8975-4851dd5cdb8e",
   "metadata": {},
   "outputs": [
    {
     "data": {
      "text/plain": [
       "['Année du Baccalauréat',\n",
       " 'Enseignements de spécialité',\n",
       " 'Formation',\n",
       " 'Nombre de candidats bacheliers ayant confirmé au moins un vœu',\n",
       " \"Nombre de candidats bacheliers ayant reçu au moins une proposition d'admission\",\n",
       " \"Nombre de candidats bacheliers ayant accepté une proposition d'admission\"]"
      ]
     },
     "execution_count": 16,
     "metadata": {},
     "output_type": "execute_result"
    }
   ],
   "source": [
    "#Aperçu des colonnes (Type 2)\n",
    "dvps_df.columns.to_list()"
   ]
  },
  {
   "cell_type": "markdown",
   "id": "54f2b63c-91c2-48f4-bad2-eb9a37116316",
   "metadata": {},
   "source": [
    "Observons maintenant si certaines variables contiennent un nombre élevé de valeur nulle."
   ]
  },
  {
   "cell_type": "code",
   "execution_count": 27,
   "id": "f612f947-b7f8-4dd5-8f4f-7c546fa4d3d6",
   "metadata": {},
   "outputs": [],
   "source": [
    "#From \"main_study\"\n",
    "def perc_null (df): \n",
    "    return(df.isnull().sum() * 100 / len(df)).round(2)"
   ]
  },
  {
   "cell_type": "code",
   "execution_count": 28,
   "id": "fc4ea83c-030f-4d1b-a880-0727099e3609",
   "metadata": {},
   "outputs": [
    {
     "data": {
      "text/plain": [
       "Session                                                                                                                                              0.00\n",
       "Statut de l’établissement de la filière de formation (public, privé…)                                                                                0.00\n",
       "Code UAI de l'établissement                                                                                                                          0.00\n",
       "Établissement                                                                                                                                        0.00\n",
       "Code départemental de l’établissement                                                                                                                0.00\n",
       "Département de l’établissement                                                                                                                       0.00\n",
       "Région de l’établissement                                                                                                                            0.00\n",
       "Académie de l’établissement                                                                                                                          0.00\n",
       "Commune de l’établissement                                                                                                                           0.59\n",
       "Filière de formation                                                                                                                                 0.00\n",
       "Sélectivité                                                                                                                                          0.00\n",
       "Filière de formation très agrégée                                                                                                                    0.00\n",
       "Filière de formation détaillée                                                                                                                       0.00\n",
       "Filière de formation.1                                                                                                                               0.00\n",
       "Filière de formation détaillée bis                                                                                                                   0.00\n",
       "Filière de formation très détaillée                                                                                                                 71.28\n",
       "Coordonnées GPS de la formation                                                                                                                      0.64\n",
       "Capacité de l’établissement par formation                                                                                                            0.00\n",
       "Effectif total des candidats pour une formation                                                                                                      0.00\n",
       "Dont effectif des candidates pour une formation                                                                                                      0.00\n",
       "Effectif total des candidats en phase principale                                                                                                     0.00\n",
       "Dont effectif des candidats ayant postulé en internat                                                                                               92.91\n",
       "Effectif des candidats néo bacheliers généraux en phase principale                                                                                   0.00\n",
       "Dont effectif des candidats boursiers néo bacheliers généraux en phase principale                                                                    0.00\n",
       "Effectif des candidats néo bacheliers technologiques en phase principale                                                                             0.00\n",
       "Dont effectif des candidats boursiers néo bacheliers technologiques en phase principale                                                              0.00\n",
       "Effectif des candidats néo bacheliers professionnels en phase principale                                                                             0.00\n",
       "Dont effectif des candidats boursiers néo bacheliers professionnels en phase principale                                                              0.00\n",
       "Effectif des autres candidats en phase principale                                                                                                    0.00\n",
       "Effectif total des candidats en phase complémentaire                                                                                                 0.00\n",
       "Effectif des candidats néo bacheliers généraux en phase complémentaire                                                                               0.00\n",
       "Effectif des candidats néo bacheliers technologique en phase complémentaire                                                                          0.00\n",
       "Effectif des candidats néo bacheliers professionnels en phase complémentaire                                                                         0.00\n",
       "Effectifs des autres candidats en phase complémentaire                                                                                               0.00\n",
       "Effectif total des candidats classés par l’établissement en phase principale                                                                         0.00\n",
       "Effectif des candidats classés par l’établissement en phase complémentaire                                                                           0.00\n",
       "Effectif des candidats classés par l’établissement en internat (CPGE)                                                                               92.91\n",
       "Effectif des candidats classés par l’établissement hors internat (CPGE)                                                                             92.91\n",
       "Effectif des candidats néo bacheliers généraux classés par l’établissement                                                                           0.00\n",
       "Dont effectif des candidats boursiers néo bacheliers généraux classés par l’établissement                                                            0.00\n",
       "Effectif des candidats néo bacheliers technologiques classés par l’établissement                                                                     0.00\n",
       "Dont effectif des candidats boursiers néo bacheliers technologiques classés par l’établissement                                                      0.00\n",
       "Effectif des candidats néo bacheliers professionnels classés par l’établissement                                                                     0.00\n",
       "Dont effectif des candidats boursiers néo bacheliers professionnels classés par l’établissement                                                      0.00\n",
       "Effectif des autres candidats classés par l’établissement                                                                                            0.00\n",
       "Effectif total des candidats ayant reçu une proposition d’admission de la part de l’établissement                                                    0.00\n",
       "Effectif total des candidats ayant accepté la proposition de l’établissement (admis)                                                                 0.00\n",
       "Dont effectif des candidates admises                                                                                                                 0.00\n",
       "Effectif des admis en phase principale                                                                                                               0.00\n",
       "Effectif des admis en phase complémentaire                                                                                                           0.00\n",
       "Dont effectif des admis ayant reçu leur proposition d’admission à l'ouverture de la procédure principale                                             0.00\n",
       "Dont effectif des admis ayant reçu leur proposition d’admission avant le baccalauréat                                                                0.00\n",
       "Dont effectif des admis ayant reçu leur proposition d’admission avant la fin de la procédure principale                                              0.00\n",
       "Dont effectif des admis en internat                                                                                                                 92.91\n",
       "Dont effectif des admis boursiers néo bacheliers                                                                                                     0.00\n",
       "Effectif des admis néo bacheliers                                                                                                                    0.00\n",
       "Effectif des admis néo bacheliers généraux                                                                                                           0.00\n",
       "Effectif des admis néo bacheliers technologiques                                                                                                     0.00\n",
       "Effectif des admis néo bacheliers professionnels                                                                                                     0.00\n",
       "Effectif des autres candidats admis                                                                                                                  0.00\n",
       "Dont effectif des admis néo bacheliers sans information sur la mention au bac                                                                        0.00\n",
       "Dont effectif des admis néo bacheliers sans mention au bac                                                                                           0.00\n",
       "Dont effectif des admis néo bacheliers avec mention Assez Bien au bac                                                                                0.00\n",
       "Dont effectif des admis néo bacheliers avec mention Bien au bac                                                                                      0.00\n",
       "Dont effectif des admis néo bacheliers avec mention Très Bien au bac                                                                                 0.00\n",
       "Dont effectif des admis néo bacheliers avec mention Très Bien avec félicitations au bac                                                              0.00\n",
       "Effectif des admis néo bacheliers généraux ayant eu une mention au bac                                                                               0.00\n",
       "Effectif des admis néo bacheliers technologiques ayant eu une mention au bac                                                                         0.00\n",
       "Effectif des admis néo bacheliers professionnels ayant eu une mention au bac                                                                         0.00\n",
       "Dont effectif des admis issus du même établissement (BTS/CPGE)                                                                                      54.42\n",
       "Dont effectif des admises issues du même établissement (BTS/CPGE)                                                                                   54.42\n",
       "Dont effectif des admis issus de la même académie                                                                                                    0.00\n",
       "Dont effectif des admis issus de la même académie (Paris/Créteil/Versailles réunies)                                                                 0.00\n",
       "% d’admis ayant reçu leur proposition d’admission à l'ouverture de la procédure principale                                                           0.00\n",
       "% d’admis ayant reçu leur proposition d’admission avant le baccalauréat                                                                              0.00\n",
       "% d’admis ayant reçu leur proposition d’admission avant la fin de la procédure principale                                                            0.00\n",
       "% d’admis dont filles                                                                                                                                0.00\n",
       "% d’admis néo bacheliers issus de la même académie                                                                                                   0.00\n",
       "% d’admis néo bacheliers issus de la même académie (Paris/Créteil/Versailles réunies)                                                                0.00\n",
       "% d’admis néo bacheliers issus du même établissement (BTS/CPGE)                                                                                      0.00\n",
       "% d’admis néo bacheliers boursiers                                                                                                                   0.00\n",
       "% d’admis néo bacheliers                                                                                                                             0.00\n",
       "% d’admis néo bacheliers sans information sur la mention au bac                                                                                      0.00\n",
       "% d’admis néo bacheliers sans mention au bac                                                                                                         0.00\n",
       "% d’admis néo bacheliers avec mention Assez Bien au bac                                                                                              0.00\n",
       "% d’admis néo bacheliers avec mention Bien au bac                                                                                                    0.00\n",
       "% d’admis néo bacheliers avec mention Très Bien au bac                                                                                               0.00\n",
       "% d’admis néo bacheliers avec mention Très Bien avec félicitations au bac                                                                            0.00\n",
       "% d’admis néo bacheliers généraux                                                                                                                    0.00\n",
       "Dont % d’admis avec mention (BG)                                                                                                                     0.00\n",
       "% d’admis néo bacheliers technologiques                                                                                                              0.00\n",
       "Dont % d’admis avec mention (BT)                                                                                                                     0.00\n",
       "% d’admis néo bacheliers professionnels                                                                                                              0.00\n",
       "Dont % d’admis avec mention (BP)                                                                                                                     0.00\n",
       "Effectif des candidats en terminale générale ayant reçu une proposition d’admission de la part de l’établissement                                    0.00\n",
       "Dont effectif des candidats boursiers en terminale générale ayant reçu une proposition d’admission de la part de l’établissement                     0.00\n",
       "Effectif des candidats en terminale technologique ayant reçu une proposition d’admission de la part de l’établissement                               0.00\n",
       "Dont effectif des candidats boursiers en terminale technologique ayant reçu une proposition d’admission de la part de l’établissement                0.00\n",
       "Effectif des candidats en terminale professionnelle ayant reçu une proposition d’admission de la part de l’établissement                             0.00\n",
       "Dont effectif des candidats boursiers en terminale générale professionnelle ayant reçu une proposition d’admission de la part de l’établissement     0.00\n",
       "Effectif des autres candidats ayant reçu une proposition d’admission de la part de l’établissement                                                   0.00\n",
       "Regroupement 1 effectué par les formations pour les classements                                                                                      2.08\n",
       "Rang du dernier appelé du groupe 1                                                                                                                   2.08\n",
       "Regroupement 2 effectué par les formations pour les classements                                                                                     55.27\n",
       "Rang du dernier appelé du groupe 2                                                                                                                  55.27\n",
       "Regroupement 3 effectué par les formations pour les classements                                                                                     72.31\n",
       "Rang du dernier appelé du groupe 3                                                                                                                  72.31\n",
       "list_com                                                                                                                                             0.00\n",
       "tri                                                                                                                                                  0.00\n",
       "cod_aff_form                                                                                                                                         0.00\n",
       "Concours communs et banque d'épreuves                                                                                                               95.19\n",
       "Lien de la formation sur la plateforme Parcoursup                                                                                                    0.64\n",
       "Taux d’accès                                                                                                                                         0.92\n",
       "Part des terminales générales qui étaient en position de recevoir une proposition en phase principale                                                0.00\n",
       "Part des terminales technologiques qui étaient en position de recevoir une proposition en phase principale                                           0.00\n",
       "Part des terminales professionnelles qui étaient en position de recevoir une proposition en phase principale                                         0.00\n",
       "etablissement_id_paysage                                                                                                                            52.71\n",
       "composante_id_paysage                                                                                                                               98.29\n",
       "dtype: float64"
      ]
     },
     "metadata": {},
     "output_type": "display_data"
    }
   ],
   "source": [
    "nullpercl = perc_null(dvre2023_df)\n",
    "with pd.option_context('display.max_rows', None): \n",
    "    display(nullpercl)"
   ]
  }
 ],
 "metadata": {
  "kernelspec": {
   "display_name": "Python 3 (ipykernel)",
   "language": "python",
   "name": "python3"
  },
  "language_info": {
   "codemirror_mode": {
    "name": "ipython",
    "version": 3
   },
   "file_extension": ".py",
   "mimetype": "text/x-python",
   "name": "python",
   "nbconvert_exporter": "python",
   "pygments_lexer": "ipython3",
   "version": "3.11.7"
  }
 },
 "nbformat": 4,
 "nbformat_minor": 5
}

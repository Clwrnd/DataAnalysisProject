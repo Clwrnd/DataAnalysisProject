{
 "cells": [
  {
   "cell_type": "code",
   "execution_count": 1,
   "id": "605c09c8-7ee2-40a5-b6cf-90a8c6e653fe",
   "metadata": {},
   "outputs": [],
   "source": [
    "import pandas as pd"
   ]
  },
  {
   "cell_type": "markdown",
   "id": "e951de49-d370-454a-a05d-fbad4cf67e1f",
   "metadata": {},
   "source": [
    "# Analyse de données relative à la plateforme Parcoursup"
   ]
  },
  {
   "cell_type": "markdown",
   "id": "79762980-ec03-4304-9b18-2cc5e3e9486b",
   "metadata": {},
   "source": [
    "**1) Description et orignes des datasets.**"
   ]
  },
  {
   "cell_type": "markdown",
   "id": "1c97c8d0-b004-4b4e-88e0-5118c62ee38c",
   "metadata": {},
   "source": [
    "Tout d'abord qu'est ce que **Parcoursup** ?\n",
    "\n",
    "Parcoursup est la plateforme **nationale** de préinscription en première année de l’enseignement supérieur en France. \\\n",
    "Cette dernière permet aux étudiants (de nationalité française et résidant en France ou non) entrant ou se réorientant en première années d'études supérieur de formuler leurs voeux pour différentes formations offertes par les établissements d'enseignements supérieur français du monde entier. \\\n",
    "Cela en passant par l'intermédiaire d'une plateforme Web: **https://www.parcoursup.gouv.fr/**"
   ]
  },
  {
   "cell_type": "markdown",
   "id": "222a0531-caa1-45b8-99b4-1a6bf7d0a553",
   "metadata": {},
   "source": [
    "Cette plateforme appartenant au gouvernement français et les démarches s'effectuant exclusivement en ligne, il a été possible pour ce dernier de récolter de nombreuses données quant à Parcoursup. Celles-ci sont ainsi mises à disposition librement par le gouvernement sur le site open data du **ministère de l'enseignement supérieur et de la recherche:** \\\n",
    "**https://data.enseignementsup-recherche.gouv.fr/pages/explorer/?sort=modified&refine.keyword=parcoursup** *(1)*"
   ]
  },
  {
   "cell_type": "markdown",
   "id": "52cb0eb9-131e-41eb-9de6-d5b2df17efec",
   "metadata": {},
   "source": [
    "Parmis ces datasets nous en exploiterons principalement deux types: \n",
    "1. **Les Voeux de poursuite d'études et de réorientation dans l'enseignement supérieur et réponses des établissements** pour les années allant de 2018 à 2023 tout deux inclus:  **https://github.com/Clwrnd/DataAnalyticsProject/tree/main/DataSet_Voeux_RepEtablissement**\n",
    "2. **Les propositions d'admission dans l'enseignement supérieur des élèves de terminale diplômés du baccalauréat général selon leurs enseignements de spécialité** pour les années 2021 et 2022: **https://github.com/Clwrnd/DataAnalyticsProject/tree/main/DataSet_VoeuxParSpe**"
   ]
  },
  {
   "cell_type": "markdown",
   "id": "879882d0-4ae8-4152-9611-8ba30508652d",
   "metadata": {},
   "source": [
    "On trouvera ci-joint les documents et lien utiles à la compréhension et lectures des différents datasets:\n",
    "\n",
    "1. Pour le premier type, on pourra se référer au lien *(1)* en choisissant l'année souhaitée et en se rendant dans la rubrique \"informations\". On a de plus pour chaque année une méthodologie détaillé ici: **https://github.com/Clwrnd/DataAnalyticsProject/tree/main/DataSet_Voeux_RepEtablissement/Methodologie**\n",
    "2. Pour le deuxième type: **https://data.enseignementsup-recherche.gouv.fr/explore/dataset/fr-esr-parcoursup-enseignements-de-specialite-bacheliers-generaux-2/information/**.  Et pour une méthodologie plus détaillé: **https://github.com/Clwrnd/DataAnalyticsProject/blob/main/DataSet_VoeuxParSpe/m%C3%A9thodo_OD_EDS_21_22.pdf**"
   ]
  },
  {
   "cell_type": "markdown",
   "id": "2a45a83c-11cf-4547-bacd-52cfe1de5c6b",
   "metadata": {},
   "source": [
    "**2) Analyse explorative**"
   ]
  },
  {
   "cell_type": "code",
   "execution_count": 27,
   "id": "e00ba54d-292c-4767-8dc8-4688062f564f",
   "metadata": {
    "scrolled": true
   },
   "outputs": [
    {
     "data": {
      "text/plain": [
       "['Session',\n",
       " 'Statut de l’établissement de la filière de formation (public, privé…)',\n",
       " \"Code UAI de l'établissement\",\n",
       " 'Établissement',\n",
       " 'Code départemental de l’établissement',\n",
       " 'Département de l’établissement',\n",
       " 'Région de l’établissement',\n",
       " 'Académie de l’établissement',\n",
       " 'Commune de l’établissement',\n",
       " 'Filière de formation',\n",
       " 'Sélectivité',\n",
       " 'Filière de formation très agrégée',\n",
       " 'Filière de formation détaillée',\n",
       " 'Filière de formation.1',\n",
       " 'Filière de formation détaillée bis',\n",
       " 'Filière de formation très détaillée',\n",
       " 'Coordonnées GPS de la formation',\n",
       " 'Capacité de l’établissement par formation',\n",
       " 'Effectif total des candidats pour une formation',\n",
       " 'Dont effectif des candidates pour une formation',\n",
       " 'Effectif total des candidats en phase principale',\n",
       " 'Dont effectif des candidats ayant postulé en internat',\n",
       " 'Effectif des candidats néo bacheliers généraux en phase principale',\n",
       " 'Dont effectif des candidats boursiers néo bacheliers généraux en phase principale',\n",
       " 'Effectif des candidats néo bacheliers technologiques en phase principale',\n",
       " 'Dont effectif des candidats boursiers néo bacheliers technologiques en phase principale',\n",
       " 'Effectif des candidats néo bacheliers professionnels en phase principale',\n",
       " 'Dont effectif des candidats boursiers néo bacheliers professionnels en phase principale',\n",
       " 'Effectif des autres candidats en phase principale',\n",
       " 'Effectif total des candidats en phase complémentaire',\n",
       " 'Effectif des candidats néo bacheliers généraux en phase complémentaire',\n",
       " 'Effectif des candidats néo bacheliers technologique en phase complémentaire',\n",
       " 'Effectif des candidats néo bacheliers professionnels en phase complémentaire',\n",
       " 'Effectifs des autres candidats en phase complémentaire',\n",
       " 'Effectif total des candidats classés par l’établissement en phase principale',\n",
       " 'Effectif des candidats classés par l’établissement en phase complémentaire',\n",
       " 'Effectif des candidats classés par l’établissement en internat (CPGE)',\n",
       " 'Effectif des candidats classés par l’établissement hors internat (CPGE)',\n",
       " 'Effectif des candidats néo bacheliers généraux classés par l’établissement',\n",
       " 'Dont effectif des candidats boursiers néo bacheliers généraux classés par l’établissement',\n",
       " 'Effectif des candidats néo bacheliers technologiques classés par l’établissement',\n",
       " 'Dont effectif des candidats boursiers néo bacheliers technologiques classés par l’établissement',\n",
       " 'Effectif des candidats néo bacheliers professionnels classés par l’établissement',\n",
       " 'Dont effectif des candidats boursiers néo bacheliers professionnels classés par l’établissement',\n",
       " 'Effectif des autres candidats classés par l’établissement',\n",
       " 'Effectif total des candidats ayant reçu une proposition d’admission de la part de l’établissement',\n",
       " 'Effectif total des candidats ayant accepté la proposition de l’établissement (admis)',\n",
       " 'Dont effectif des candidates admises',\n",
       " 'Effectif des admis en phase principale',\n",
       " 'Effectif des admis en phase complémentaire',\n",
       " \"Dont effectif des admis ayant reçu leur proposition d’admission à l'ouverture de la procédure principale\",\n",
       " 'Dont effectif des admis ayant reçu leur proposition d’admission avant le baccalauréat',\n",
       " 'Dont effectif des admis ayant reçu leur proposition d’admission avant la fin de la procédure principale',\n",
       " 'Dont effectif des admis en internat',\n",
       " 'Dont effectif des admis boursiers néo bacheliers',\n",
       " 'Effectif des admis néo bacheliers',\n",
       " 'Effectif des admis néo bacheliers généraux',\n",
       " 'Effectif des admis néo bacheliers technologiques',\n",
       " 'Effectif des admis néo bacheliers professionnels',\n",
       " 'Effectif des autres candidats admis',\n",
       " 'Dont effectif des admis néo bacheliers sans information sur la mention au bac',\n",
       " 'Dont effectif des admis néo bacheliers sans mention au bac',\n",
       " 'Dont effectif des admis néo bacheliers avec mention Assez Bien au bac',\n",
       " 'Dont effectif des admis néo bacheliers avec mention Bien au bac',\n",
       " 'Dont effectif des admis néo bacheliers avec mention Très Bien au bac',\n",
       " 'Dont effectif des admis néo bacheliers avec mention Très Bien avec félicitations au bac',\n",
       " 'Effectif des admis néo bacheliers généraux ayant eu une mention au bac',\n",
       " 'Effectif des admis néo bacheliers technologiques ayant eu une mention au bac',\n",
       " 'Effectif des admis néo bacheliers professionnels ayant eu une mention au bac',\n",
       " 'Dont effectif des admis issus du même établissement (BTS/CPGE)',\n",
       " 'Dont effectif des admises issues du même établissement (BTS/CPGE)',\n",
       " 'Dont effectif des admis issus de la même académie',\n",
       " 'Dont effectif des admis issus de la même académie (Paris/Créteil/Versailles réunies)',\n",
       " \"% d’admis ayant reçu leur proposition d’admission à l'ouverture de la procédure principale\",\n",
       " '% d’admis ayant reçu leur proposition d’admission avant le baccalauréat',\n",
       " '% d’admis ayant reçu leur proposition d’admission avant la fin de la procédure principale',\n",
       " '% d’admis dont filles',\n",
       " '% d’admis néo bacheliers issus de la même académie',\n",
       " '% d’admis néo bacheliers issus de la même académie (Paris/Créteil/Versailles réunies)',\n",
       " '% d’admis néo bacheliers issus du même établissement (BTS/CPGE)',\n",
       " '% d’admis néo bacheliers boursiers',\n",
       " '% d’admis néo bacheliers',\n",
       " '% d’admis néo bacheliers sans information sur la mention au bac',\n",
       " '% d’admis néo bacheliers sans mention au bac',\n",
       " '% d’admis néo bacheliers avec mention Assez Bien au bac',\n",
       " '% d’admis néo bacheliers avec mention Bien au bac',\n",
       " '% d’admis néo bacheliers avec mention Très Bien au bac',\n",
       " '% d’admis néo bacheliers avec mention Très Bien avec félicitations au bac',\n",
       " '% d’admis néo bacheliers généraux',\n",
       " 'Dont % d’admis avec mention (BG)',\n",
       " '% d’admis néo bacheliers technologiques',\n",
       " 'Dont % d’admis avec mention (BT)',\n",
       " '% d’admis néo bacheliers professionnels',\n",
       " 'Dont % d’admis avec mention (BP)',\n",
       " 'Effectif des candidats en terminale générale ayant reçu une proposition d’admission de la part de l’établissement',\n",
       " 'Dont effectif des candidats boursiers en terminale générale ayant reçu une proposition d’admission de la part de l’établissement',\n",
       " 'Effectif des candidats en terminale technologique ayant reçu une proposition d’admission de la part de l’établissement',\n",
       " 'Dont effectif des candidats boursiers en terminale technologique ayant reçu une proposition d’admission de la part de l’établissement',\n",
       " 'Effectif des candidats en terminale professionnelle ayant reçu une proposition d’admission de la part de l’établissement',\n",
       " 'Dont effectif des candidats boursiers en terminale générale professionnelle ayant reçu une proposition d’admission de la part de l’établissement',\n",
       " 'Effectif des autres candidats ayant reçu une proposition d’admission de la part de l’établissement',\n",
       " 'Regroupement 1 effectué par les formations pour les classements',\n",
       " 'Rang du dernier appelé du groupe 1',\n",
       " 'Regroupement 2 effectué par les formations pour les classements',\n",
       " 'Rang du dernier appelé du groupe 2',\n",
       " 'Regroupement 3 effectué par les formations pour les classements',\n",
       " 'Rang du dernier appelé du groupe 3',\n",
       " 'list_com',\n",
       " 'tri',\n",
       " 'cod_aff_form',\n",
       " \"Concours communs et banque d'épreuves\",\n",
       " 'Lien de la formation sur la plateforme Parcoursup',\n",
       " 'Taux d’accès',\n",
       " 'Part des terminales générales qui étaient en position de recevoir une proposition en phase principale',\n",
       " 'Part des terminales technologiques qui étaient en position de recevoir une proposition en phase principale',\n",
       " 'Part des terminales professionnelles qui étaient en position de recevoir une proposition en phase principale',\n",
       " 'etablissement_id_paysage',\n",
       " 'composante_id_paysage']"
      ]
     },
     "execution_count": 27,
     "metadata": {},
     "output_type": "execute_result"
    }
   ],
   "source": [
    "vpe2023 = pd.read_csv(f\"DataSet_Voeux_RepEtablissement/fr-esr-parcoursup2023.csv\",encoding=\"utf8\",sep=\";\")\n",
    "columns= vpe2023.columns.tolist()\n",
    "columns"
   ]
  },
  {
   "cell_type": "code",
   "execution_count": null,
   "id": "00cdfcb0-3ca4-4977-b659-7274388694b4",
   "metadata": {},
   "outputs": [],
   "source": []
  },
  {
   "cell_type": "code",
   "execution_count": null,
   "id": "fd269c52-8c08-4d1b-8f73-1224ae908052",
   "metadata": {},
   "outputs": [],
   "source": []
  }
 ],
 "metadata": {
  "kernelspec": {
   "display_name": "Python 3 (ipykernel)",
   "language": "python",
   "name": "python3"
  },
  "language_info": {
   "codemirror_mode": {
    "name": "ipython",
    "version": 3
   },
   "file_extension": ".py",
   "mimetype": "text/x-python",
   "name": "python",
   "nbconvert_exporter": "python",
   "pygments_lexer": "ipython3",
   "version": "3.11.7"
  }
 },
 "nbformat": 4,
 "nbformat_minor": 5
}

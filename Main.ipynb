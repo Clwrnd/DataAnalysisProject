{
 "cells": [
  {
   "cell_type": "code",
   "execution_count": 2,
   "id": "605c09c8-7ee2-40a5-b6cf-90a8c6e653fe",
   "metadata": {},
   "outputs": [],
   "source": [
    "import pandas as pd\n",
    "import missingno as miss\n",
    "import matplotlib.pyplot as plt"
   ]
  },
  {
   "cell_type": "markdown",
   "id": "e951de49-d370-454a-a05d-fbad4cf67e1f",
   "metadata": {},
   "source": [
    "# Analyse de données relatives à la plateforme Parcoursup"
   ]
  },
  {
   "cell_type": "markdown",
   "id": "78987f28-e386-4ce6-898f-13a172370099",
   "metadata": {},
   "source": [
    "## I) Introduction"
   ]
  },
  {
   "cell_type": "markdown",
   "id": "79762980-ec03-4304-9b18-2cc5e3e9486b",
   "metadata": {},
   "source": [
    "**1) Description et origne des datasets.**"
   ]
  },
  {
   "cell_type": "markdown",
   "id": "1c97c8d0-b004-4b4e-88e0-5118c62ee38c",
   "metadata": {},
   "source": [
    "Tout d'abord qu'est ce que **Parcoursup** ?\n",
    "\n",
    "Parcoursup est la plateforme **nationale** de préinscription en première année de l’enseignement supérieur en France. \\\n",
    "Cette dernière permet aux étudiants (de nationalité française et résidant en France ou non) entrant ou se réorientant en première année d'études supérieures de formuler leurs voeux pour différentes formations offertes par les établissements d'enseignement supérieur français du monde entier. \\\n",
    "Cela en passant par l'intermédiaire d'une plateforme Web: **https://www.parcoursup.gouv.fr/**"
   ]
  },
  {
   "cell_type": "markdown",
   "id": "222a0531-caa1-45b8-99b4-1a6bf7d0a553",
   "metadata": {},
   "source": [
    "Cette plateforme appartenant au gouvernement français et les démarches s'effectuant exclusivement en ligne, il a été possible pour ce dernier de récolter de nombreuses données quant à Parcoursup. Celles-ci sont ainsi mises à disposition librement par le gouvernement sur le site open data du **ministère de l'enseignement supérieur et de la recherche:** \\\n",
    "**https://data.enseignementsup-recherche.gouv.fr/pages/explorer/?sort=modified&refine.keyword=parcoursup** *(1)*"
   ]
  },
  {
   "cell_type": "markdown",
   "id": "52cb0eb9-131e-41eb-9de6-d5b2df17efec",
   "metadata": {},
   "source": [
    "Parmis ces datasets nous en exploiterons principalement deux types: \n",
    "1. **Les Voeux de poursuite d'études et de réorientation dans l'enseignement supérieur et réponses des établissements** pour les années allant de 2018 à 2023 tout deux inclus:  **https://github.com/Clwrnd/DataAnalyticsProject/tree/main/DataSet_Voeux_RepEtablissement**\n",
    "2. **Les propositions d'admission dans l'enseignement supérieur des élèves de terminale diplômés du baccalauréat général selon leurs enseignements de spécialité** pour les années 2021 et 2022: **https://github.com/Clwrnd/DataAnalyticsProject/tree/main/DataSet_VoeuxParSpe**"
   ]
  },
  {
   "cell_type": "markdown",
   "id": "879882d0-4ae8-4152-9611-8ba30508652d",
   "metadata": {},
   "source": [
    "On trouvera ci-joint les documents et liens utiles à la compréhension et lecture des différents datasets:\n",
    "\n",
    "1. Pour le premier type, on pourra se référer au lien *(1)* en choisissant l'année souhaitée et en se rendant dans la rubrique \"information\". On a de plus pour chaque année une méthodologie détaillé ici: **https://github.com/Clwrnd/DataAnalyticsProject/tree/main/DataSet_Voeux_RepEtablissement/Methodologie**\n",
    "2. Pour le deuxième type: **https://data.enseignementsup-recherche.gouv.fr/explore/dataset/fr-esr-parcoursup-enseignements-de-specialite-bacheliers-generaux-2/information/**.  Et pour une méthodologie plus détaillé: **https://github.com/Clwrnd/DataAnalyticsProject/blob/main/DataSet_VoeuxParSpe/m%C3%A9thodo_OD_EDS_21_22.pdf**"
   ]
  },
  {
   "cell_type": "markdown",
   "id": "e66b2e7e-4a8a-4cd8-a59f-c31420f7abcf",
   "metadata": {},
   "source": [
    "**2) Informations notables sur les datasets**"
   ]
  },
  {
   "cell_type": "markdown",
   "id": "47cde4de-f841-42ad-b3d8-51f2c87747af",
   "metadata": {},
   "source": [
    "Ici sont évoquées les informations notables des documents et liens précédents qui pourront éventuellement être nécéssaires à une bonne analyse des données. En gardant à l'esprit qu'il soit possible que cette liste ne soit pas exhaustive et qu'au besoin il faudra se réferer aux documents précédents. \\\n",
    "Pour le **premier type** de datasets, on peut relever comme informations importantes:\n",
    "\n",
    "1. **Aucun** de ces datasets ne prend en compte les formation en **apprentissage**. Il sera ainsi donc impossible de tirer quelconque conclusion à ce propos.\n",
    "2. Pour l'année 2018, le terme \"endo-recrutement (CPGE,BTS)\" fait référence au libélé: \"Le nombre de candidats admis en BTS ou en CPGE et issus de leur lycée\" pour les années suivantes et pour le nom de colonne correspondante de la même année. Ce libélé explicitant le précédent.\n",
    "3. Tout les établissements d'enseignement supérieur français n'effectue pas leurs recrutements sur Parcoursup. Ces derniers pouvant être plus ou moins nombreux selon le domaine. Il est important de garder cela à l'esprit avant d'effectuer quelconque conclusion.\n",
    "4. Certains voeux se composent de sous-voeux représentant une formation dans un établissement précis. (Exemple: Voeux -> INSA, Sous-voeux -> INSA Strasbourg).\n",
    "5. La somme des admis par phase peut être inférieur au total du nombre d’admis à cause des candidats admis hors phases.\n",
    "6. En 2020, ont été ajouté les données cartographiques et deux nouveaux indicateurs *(voir document méthodologie 2020)*.\n",
    "7. En 2021, la mention \"très bien\" a été détaillé grâce à \"avec/sans félicitation du jury\". D'autres changements ont aussi été effectué sur les groupes d'appelés *(voir document méthodologie 2021)*.\n",
    "8. Les deux indicateurs ajoutés en 2020 ne prennent en compte uniquement que les étudiants scolarisés en France ou de nationalité européenne. De plus, le mode de calcul de ces indicateurs diffèrent entre 2020/2021 et 2022/2023. Il est spécifié qu'il est **impossible** de recalculer ces indicateurs avec les données open data.\n",
    "\n",
    "Pour le **deuxième type** de dataset: \n",
    "\n",
    "1. Les enseignements \"Arts\" et \"Littérature\" se décline en plusieurs sous-enseignements plus spécifique.\n",
    "2. La somme des candidats ayant confirmé un voeu dans chaque formation ne correspond pas au total des candidats car un candidat est donc compté autant de fois qu'il a fait de voeux dans des formations différentes. De même pour les propositions d'admissions. En revanche, les candidats ne peuvent accepter qu'une seule proposition d'admission. Donc dans la colonne \"Nb de candidats bacheliers ayant accepté une proposition d'admission\", on peut faire la somme des candidats pour chaque formation."
   ]
  },
  {
   "cell_type": "markdown",
   "id": "db902c09-7ee5-488b-a8d0-443f45c55b4e",
   "metadata": {},
   "source": [
    "**3) Objectifs**"
   ]
  },
  {
   "cell_type": "markdown",
   "id": "04f512e4-c636-4472-941e-e04d22385d0b",
   "metadata": {},
   "source": [
    "Les points et objectifs précis seront précsiés tout au long de l'avancement de l'analyse mais on peut cependant déjà donner un point de vue global de ces derniers:\n",
    "\n",
    "1. Vérification de faits dont la véracité à déjà été prouvée ou dont la véracité est considérée à juste titre comme logique et naturelle\n",
    "2. Tentatives d'extraction de lien de corrélation dans le but d'essayer de tirer de nouvelles conclusions\n",
    "3. Tentative de mise au point d'un modèle prédictif permettant de donner les chances d'acceptations dans une certaine formation en fonction de différents facteurs."
   ]
  },
  {
   "cell_type": "markdown",
   "id": "22e57f6f-2430-43d1-94db-287858d89250",
   "metadata": {},
   "source": [
    "## II) Analyse"
   ]
  },
  {
   "cell_type": "markdown",
   "id": "2a45a83c-11cf-4547-bacd-52cfe1de5c6b",
   "metadata": {},
   "source": [
    "**1) Préliminaires: Nettoyage des données et analyse explorative**"
   ]
  },
  {
   "cell_type": "code",
   "execution_count": 3,
   "id": "2d99f481-b955-43bf-b87f-231bf7b5ce03",
   "metadata": {},
   "outputs": [],
   "source": [
    "# Création de tous les DatasFrames\n",
    "'''#Type 1:\n",
    "dvre2023_df = pd.read_csv(\"DataSet_Voeux_RepEtablissement/fr-esr-parcoursup_2023.csv\",encoding=\"utf8\",sep=\";\")\n",
    "dvre2022_df = pd.read_csv(\"DataSet_Voeux_RepEtablissement/fr-esr-parcoursup_2022.csv\",encoding=\"utf8\",sep=\";\")\n",
    "dvre2021_df = pd.read_csv(\"DataSet_Voeux_RepEtablissement/fr-esr-parcoursup_2021.csv\",encoding=\"utf8\",sep=\";\")\n",
    "dvre2020_df = pd.read_csv(\"DataSet_Voeux_RepEtablissement/fr-esr-parcoursup_2020.csv\",encoding=\"utf8\",sep=\";\")\n",
    "dvre2019_df = pd.read_csv(\"DataSet_Voeux_RepEtablissement/fr-esr-parcoursup_2019.csv\",encoding=\"utf8\",sep=\";\")\n",
    "dvre2018_df = pd.read_csv(\"DataSet_Voeux_RepEtablissement/fr-esr-parcoursup_2018.csv\",encoding=\"utf8\",sep=\";\")\n",
    "\n",
    "\n",
    "#Type 2:\n",
    "dvps_df = pd.read_csv(\"DataSet_VoeuxParSpe/fr-esr-parcoursup-enseignements-de-specialite-bacheliers-generaux-2.csv\",encoding=\"utf8\",sep=\";\")'''\n",
    "\n",
    "dvre2023_df = pd.read_csv(r\"C:\\Cours INSA\\GE-2\\S4\\Python\\projet\\DataAnalyticsProject\\DataSet_Voeux_RepEtablissement\\fr-esr-parcoursup_2023.csv\", encoding=\"utf8\", sep=\";\")\n",
    "dvre2022_df = pd.read_csv(r\"C:\\Cours INSA\\GE-2\\S4\\Python\\projet\\DataAnalyticsProject\\DataSet_Voeux_RepEtablissement\\fr-esr-parcoursup_2022.csv\", encoding=\"utf8\", sep=\";\")\n",
    "dvre2021_df = pd.read_csv(r\"C:\\Cours INSA\\GE-2\\S4\\Python\\projet\\DataAnalyticsProject\\DataSet_Voeux_RepEtablissement\\fr-esr-parcoursup_2021.csv\", encoding=\"utf8\", sep=\";\")\n",
    "dvre2020_df = pd.read_csv(r\"C:\\Cours INSA\\GE-2\\S4\\Python\\projet\\DataAnalyticsProject\\DataSet_Voeux_RepEtablissement\\fr-esr-parcoursup_2020.csv\", sep=\";\")\n",
    "dvre2019_df = pd.read_csv(r\"C:\\Cours INSA\\GE-2\\S4\\Python\\projet\\DataAnalyticsProject\\DataSet_Voeux_RepEtablissement\\fr-esr-parcoursup_2019.csv\", sep=\";\")\n",
    "dvre2018_df = pd.read_csv(r\"C:\\Cours INSA\\GE-2\\S4\\Python\\projet\\DataAnalyticsProject\\DataSet_Voeux_RepEtablissement\\fr-esr-parcoursup_2018.csv\", encoding=\"utf8\", sep=\";\")\n",
    "\n",
    "dvps_df = pd.read_csv(r\"DataSet_VoeuxParSpe\\fr-esr-parcoursup-enseignements-de-specialite-bacheliers-generaux-2.csv\", encoding=\"utf8\", sep=\";\")\n"
   ]
  },
  {
   "cell_type": "markdown",
   "id": "b211c7c6-1453-4019-9340-ee6628e488d4",
   "metadata": {},
   "source": [
    "**a)** Commençons par éxaminer les éventuelles différences au niveau de la structure des dataframes de type 1."
   ]
  },
  {
   "cell_type": "code",
   "execution_count": 4,
   "id": "f3a0b2dd-aab9-4d55-bfe6-eeb2023debfc",
   "metadata": {},
   "outputs": [
    {
     "name": "stdout",
     "output_type": "stream",
     "text": [
      "118 118 118 115 92 85\n"
     ]
    }
   ],
   "source": [
    "#Nombre de colonnes dans les différents datasets\n",
    "print (len(dvre2023_df.columns),len(dvre2022_df.columns),len(dvre2021_df.columns),  \n",
    "       len(dvre2020_df.columns),len(dvre2019_df.columns),len(dvre2018_df.columns))"
   ]
  },
  {
   "cell_type": "code",
   "execution_count": 5,
   "id": "779f9085-2176-4289-a69a-d6897fd76575",
   "metadata": {},
   "outputs": [
    {
     "name": "stdout",
     "output_type": "stream",
     "text": [
      "set()\n",
      "{'Part des terminales générales qui étaient en position de recevoir une proposition en phase principale', 'Part des terminales professionnelles qui étaient en position de recevoir une proposition en phase principale', 'Taux d’accès', 'Part des terminales technologiques qui étaient en position de recevoir une proposition en phase principale', 'Dont taux d’accès des candidats ayant un bac professionnel ayant postulé à la formation', 'cod_aff_form', 'Taux d’accès des candidats ayant postulé à la formation (ratio entre le dernier appelé et le nombre vœux PP)', 'Dont taux d’accès des candidats ayant un bac général ayant postulé à la formation', 'Dont taux d’accès des candidats ayant un bac technologique ayant postulé à la formation', 'COD_AFF_FORM'}\n"
     ]
    }
   ],
   "source": [
    "#Différences au niveau des libéllés de colonnes les années 2023,2022,2021\n",
    "print ( set(dvre2023_df.columns) ^ set(dvre2022_df.columns) )\n",
    "print ( set (dvre2022_df.columns) ^ set(dvre2021_df.columns) )"
   ]
  },
  {
   "cell_type": "markdown",
   "id": "73832528-788f-4016-814b-c42cb4071e73",
   "metadata": {},
   "source": [
    "On constate que pour ces années on a exactement la même structure, entre 2022 et 2021 seuls les noms des colonnes diffèrent mais elles représentent cependant les **mêmes données** (en gardant en tête les remarques faites au sujet de ces indicateurs dans le point I.2). On peut ainsi renommer les colonnes de l'années 2021 pour faciliter l'analyse."
   ]
  },
  {
   "cell_type": "code",
   "execution_count": 6,
   "id": "5e027aa7-ed4c-4183-8a37-f632a48b96af",
   "metadata": {},
   "outputs": [],
   "source": [
    "dvre2021_df = dvre2021_df.rename(columns={'Dont taux d’accès des candidats ayant un bac professionnel ayant postulé à la formation': \n",
    "                                          'Part des terminales professionnelles qui étaient en position de recevoir une proposition en phase principale'\n",
    "                                          ,'Dont taux d’accès des candidats ayant un bac technologique ayant postulé à la formation':\n",
    "                                          'Part des terminales technologiques qui étaient en position de recevoir une proposition en phase principale',\n",
    "                                         'Dont taux d’accès des candidats ayant un bac général ayant postulé à la formation':\n",
    "                                          'Part des terminales générales qui étaient en position de recevoir une proposition en phase principale',\n",
    "                                          'COD_AFF_FORM':'cod_aff_form',\n",
    "                                     'Taux d’accès des candidats ayant postulé à la formation (ratio entre le dernier appelé et le nombre vœux PP)':\n",
    "                                         'Taux d’accès'                                       \n",
    "                                         })"
   ]
  },
  {
   "cell_type": "markdown",
   "id": "d9681273-da03-4102-b4ec-1cee5ba97136",
   "metadata": {},
   "source": [
    "De plus, on peut maintenant effectuer une jointure de ces trois dataframes étant donné leur structure identique. Cela rendra l'analyse plus aisée et moins chargée."
   ]
  },
  {
   "cell_type": "code",
   "execution_count": 7,
   "id": "21215b64-f034-40ca-b796-bd9bf14a0eda",
   "metadata": {},
   "outputs": [],
   "source": [
    "dvre2023_22_21_df= pd.concat([dvre2023_df,dvre2022_df,dvre2021_df])"
   ]
  },
  {
   "cell_type": "markdown",
   "id": "53c28063-5a08-4a5e-b734-2a45fe0ab779",
   "metadata": {},
   "source": [
    "Examinons maintant les colonnes manquantes des autres années:"
   ]
  },
  {
   "cell_type": "code",
   "execution_count": 8,
   "id": "87731d8f-472c-442a-bf75-1820f34df1e6",
   "metadata": {},
   "outputs": [
    {
     "name": "stdout",
     "output_type": "stream",
     "text": [
      "{'etablissement_id_paysage', 'cod_aff_form', 'list_com', 'composante_id_paysage', \"Concours communs et banque d'épreuves\", 'Filière de formation détaillée bis', '% d’admis néo bacheliers avec mention Très Bien avec félicitations au bac', 'Commune de l’établissement', 'Filière de formation.1', 'Dont % d’admis avec mention (BG)', 'Part des terminales technologiques qui étaient en position de recevoir une proposition en phase principale', 'Dont effectif des admis néo bacheliers avec mention Très Bien avec félicitations au bac', 'Dont % d’admis avec mention (BP)', 'Part des terminales générales qui étaient en position de recevoir une proposition en phase principale', 'Dont % d’admis avec mention (BT)', 'Taux d’accès', 'Part des terminales professionnelles qui étaient en position de recevoir une proposition en phase principale'}\n",
      "{'Regroupement 3 effectué par les formations pour les classements', 'Rang du dernier appelé du groupe 2', 'Rang du dernier appelé du groupe 4', 'Dont taux d’accès des candidats ayant un bac professionnel ayant postulé à la formation', 'Effectif des candidats en terminale générale ayant reçu une proposition d’admission de la part de l’établissement', 'Filière de formation détaillée.1', 'Regroupement 5 effectué par les formations pour les classements', 'Regroupement 4 effectué par les formations pour les classements', 'Rang du dernier appelé du groupe 5', 'Sélectivité', 'Regroupement 1 effectué par les formations pour les classements', 'Rang du dernier appelé du groupe 1', 'Dont effectif des candidats boursiers en terminale générale professionnelle ayant reçu une proposition d’admission de la part de l’établissement', 'Regroupement 2 effectué par les formations pour les classements', 'Rang du dernier appelé du groupe 3', 'Indicateur Parcoursup du taux d’accès des candidats ayant postulé à la formation (ratio entre le dernier appelé et le dernier classé)', 'Dont taux d’accès des candidats ayant un bac général ayant postulé à la formation', 'Dont effectif des candidats boursiers en terminale technologique ayant reçu une proposition d’admission de la part de l’établissement', 'Effectif des candidats en terminale professionnelle ayant reçu une proposition d’admission de la part de l’établissement', 'Dont effectif des candidats boursiers en terminale générale ayant reçu une proposition d’admission de la part de l’établissement', 'Effectif des autres candidats ayant reçu une proposition d’admission de la part de l’établissement', 'Effectif des candidats en terminale technologique ayant reçu une proposition d’admission de la part de l’établissement', 'Dont taux d’accès des candidats ayant un bac technologique ayant postulé à la formation', 'COD_AFF_FORM'}\n",
      "{'% d’admis ayant reçu leur proposition d’admission avant le baccalauréat', \"Dont effectif des admis ayant reçu leur proposition d’admission à l'ouverture de la procédure principale\", 'Statut de l’établissement de la filière de formation (public, privé…)', '% d’admis ayant reçu leur proposition d’admission avant la fin de la procédure principale', 'Dont effectif des admis ayant reçu leur proposition d’admission avant le baccalauréat', 'Dont effectif des admis ayant reçu leur proposition d’admission avant la fin de la procédure principale', \"% d’admis ayant reçu leur proposition d’admission à l'ouverture de la procédure principale\"}\n"
     ]
    }
   ],
   "source": [
    "print( set(dvre2021_df.columns) - set(dvre2020_df.columns) )\n",
    "print( set(dvre2020_df.columns) - set(dvre2019_df.columns) )\n",
    "print( set(dvre2019_df.columns) - set(dvre2018_df.columns) )"
   ]
  },
  {
   "cell_type": "markdown",
   "id": "e2c20765-5068-40f0-8d96-abe3ceb958c2",
   "metadata": {},
   "source": [
    "On remarque que certains indicateurs manquants sont ceux mentionnés en introduction (cela est donc cohérent), d'autres sont des affinages de certains indicateurs. Au vu de leurs grandes similarités structurelles, il n'est pas insensée de vouloir et de pouvoir effectuer des comparaisons et analyses communes entres ces datasets. Il faudra cependant prendre ces différences de structure en compte lors de l'analyse. \n",
    "\n",
    "**Cette première phase préliminaire nous permet de voir quelles indicateurs pourront être examinés sur quelles périodes de temps.**"
   ]
  },
  {
   "cell_type": "markdown",
   "id": "60d8d561-81eb-4313-b24b-38c54425e551",
   "metadata": {},
   "source": [
    "En ce qui concerne les types de donnés en présence, on pourra se référer aux documents méthodologiques de l'introduction. "
   ]
  },
  {
   "cell_type": "markdown",
   "id": "ae17f547-6512-49db-9f75-29ba8332e664",
   "metadata": {},
   "source": [
    "**b)** Examinons maintenant les données un peu plus en détails et essayont de faire un \"tri\" parmis ces-dernirèes."
   ]
  },
  {
   "cell_type": "code",
   "execution_count": 9,
   "id": "4692547a-393d-45ab-8cb1-9da7594efd93",
   "metadata": {},
   "outputs": [
    {
     "data": {
      "text/plain": [
       "['Session',\n",
       " 'Statut de l’établissement de la filière de formation (public, privé…)',\n",
       " \"Code UAI de l'établissement\",\n",
       " 'Établissement',\n",
       " 'Code départemental de l’établissement',\n",
       " 'Département de l’établissement',\n",
       " 'Région de l’établissement',\n",
       " 'Académie de l’établissement',\n",
       " 'Commune de l’établissement',\n",
       " 'Filière de formation',\n",
       " 'Sélectivité',\n",
       " 'Filière de formation très agrégée',\n",
       " 'Filière de formation détaillée',\n",
       " 'Filière de formation.1',\n",
       " 'Filière de formation détaillée bis',\n",
       " 'Filière de formation très détaillée',\n",
       " 'Coordonnées GPS de la formation',\n",
       " 'Capacité de l’établissement par formation',\n",
       " 'Effectif total des candidats pour une formation',\n",
       " 'Dont effectif des candidates pour une formation',\n",
       " 'Effectif total des candidats en phase principale',\n",
       " 'Dont effectif des candidats ayant postulé en internat',\n",
       " 'Effectif des candidats néo bacheliers généraux en phase principale',\n",
       " 'Dont effectif des candidats boursiers néo bacheliers généraux en phase principale',\n",
       " 'Effectif des candidats néo bacheliers technologiques en phase principale',\n",
       " 'Dont effectif des candidats boursiers néo bacheliers technologiques en phase principale',\n",
       " 'Effectif des candidats néo bacheliers professionnels en phase principale',\n",
       " 'Dont effectif des candidats boursiers néo bacheliers professionnels en phase principale',\n",
       " 'Effectif des autres candidats en phase principale',\n",
       " 'Effectif total des candidats en phase complémentaire',\n",
       " 'Effectif des candidats néo bacheliers généraux en phase complémentaire',\n",
       " 'Effectif des candidats néo bacheliers technologique en phase complémentaire',\n",
       " 'Effectif des candidats néo bacheliers professionnels en phase complémentaire',\n",
       " 'Effectifs des autres candidats en phase complémentaire',\n",
       " 'Effectif total des candidats classés par l’établissement en phase principale',\n",
       " 'Effectif des candidats classés par l’établissement en phase complémentaire',\n",
       " 'Effectif des candidats classés par l’établissement en internat (CPGE)',\n",
       " 'Effectif des candidats classés par l’établissement hors internat (CPGE)',\n",
       " 'Effectif des candidats néo bacheliers généraux classés par l’établissement',\n",
       " 'Dont effectif des candidats boursiers néo bacheliers généraux classés par l’établissement',\n",
       " 'Effectif des candidats néo bacheliers technologiques classés par l’établissement',\n",
       " 'Dont effectif des candidats boursiers néo bacheliers technologiques classés par l’établissement',\n",
       " 'Effectif des candidats néo bacheliers professionnels classés par l’établissement',\n",
       " 'Dont effectif des candidats boursiers néo bacheliers professionnels classés par l’établissement',\n",
       " 'Effectif des autres candidats classés par l’établissement',\n",
       " 'Effectif total des candidats ayant reçu une proposition d’admission de la part de l’établissement',\n",
       " 'Effectif total des candidats ayant accepté la proposition de l’établissement (admis)',\n",
       " 'Dont effectif des candidates admises',\n",
       " 'Effectif des admis en phase principale',\n",
       " 'Effectif des admis en phase complémentaire',\n",
       " \"Dont effectif des admis ayant reçu leur proposition d’admission à l'ouverture de la procédure principale\",\n",
       " 'Dont effectif des admis ayant reçu leur proposition d’admission avant le baccalauréat',\n",
       " 'Dont effectif des admis ayant reçu leur proposition d’admission avant la fin de la procédure principale',\n",
       " 'Dont effectif des admis en internat',\n",
       " 'Dont effectif des admis boursiers néo bacheliers',\n",
       " 'Effectif des admis néo bacheliers',\n",
       " 'Effectif des admis néo bacheliers généraux',\n",
       " 'Effectif des admis néo bacheliers technologiques',\n",
       " 'Effectif des admis néo bacheliers professionnels',\n",
       " 'Effectif des autres candidats admis',\n",
       " 'Dont effectif des admis néo bacheliers sans information sur la mention au bac',\n",
       " 'Dont effectif des admis néo bacheliers sans mention au bac',\n",
       " 'Dont effectif des admis néo bacheliers avec mention Assez Bien au bac',\n",
       " 'Dont effectif des admis néo bacheliers avec mention Bien au bac',\n",
       " 'Dont effectif des admis néo bacheliers avec mention Très Bien au bac',\n",
       " 'Dont effectif des admis néo bacheliers avec mention Très Bien avec félicitations au bac',\n",
       " 'Effectif des admis néo bacheliers généraux ayant eu une mention au bac',\n",
       " 'Effectif des admis néo bacheliers technologiques ayant eu une mention au bac',\n",
       " 'Effectif des admis néo bacheliers professionnels ayant eu une mention au bac',\n",
       " 'Dont effectif des admis issus du même établissement (BTS/CPGE)',\n",
       " 'Dont effectif des admises issues du même établissement (BTS/CPGE)',\n",
       " 'Dont effectif des admis issus de la même académie',\n",
       " 'Dont effectif des admis issus de la même académie (Paris/Créteil/Versailles réunies)',\n",
       " \"% d’admis ayant reçu leur proposition d’admission à l'ouverture de la procédure principale\",\n",
       " '% d’admis ayant reçu leur proposition d’admission avant le baccalauréat',\n",
       " '% d’admis ayant reçu leur proposition d’admission avant la fin de la procédure principale',\n",
       " '% d’admis dont filles',\n",
       " '% d’admis néo bacheliers issus de la même académie',\n",
       " '% d’admis néo bacheliers issus de la même académie (Paris/Créteil/Versailles réunies)',\n",
       " '% d’admis néo bacheliers issus du même établissement (BTS/CPGE)',\n",
       " '% d’admis néo bacheliers boursiers',\n",
       " '% d’admis néo bacheliers',\n",
       " '% d’admis néo bacheliers sans information sur la mention au bac',\n",
       " '% d’admis néo bacheliers sans mention au bac',\n",
       " '% d’admis néo bacheliers avec mention Assez Bien au bac',\n",
       " '% d’admis néo bacheliers avec mention Bien au bac',\n",
       " '% d’admis néo bacheliers avec mention Très Bien au bac',\n",
       " '% d’admis néo bacheliers avec mention Très Bien avec félicitations au bac',\n",
       " '% d’admis néo bacheliers généraux',\n",
       " 'Dont % d’admis avec mention (BG)',\n",
       " '% d’admis néo bacheliers technologiques',\n",
       " 'Dont % d’admis avec mention (BT)',\n",
       " '% d’admis néo bacheliers professionnels',\n",
       " 'Dont % d’admis avec mention (BP)',\n",
       " 'Effectif des candidats en terminale générale ayant reçu une proposition d’admission de la part de l’établissement',\n",
       " 'Dont effectif des candidats boursiers en terminale générale ayant reçu une proposition d’admission de la part de l’établissement',\n",
       " 'Effectif des candidats en terminale technologique ayant reçu une proposition d’admission de la part de l’établissement',\n",
       " 'Dont effectif des candidats boursiers en terminale technologique ayant reçu une proposition d’admission de la part de l’établissement',\n",
       " 'Effectif des candidats en terminale professionnelle ayant reçu une proposition d’admission de la part de l’établissement',\n",
       " 'Dont effectif des candidats boursiers en terminale générale professionnelle ayant reçu une proposition d’admission de la part de l’établissement',\n",
       " 'Effectif des autres candidats ayant reçu une proposition d’admission de la part de l’établissement',\n",
       " 'Regroupement 1 effectué par les formations pour les classements',\n",
       " 'Rang du dernier appelé du groupe 1',\n",
       " 'Regroupement 2 effectué par les formations pour les classements',\n",
       " 'Rang du dernier appelé du groupe 2',\n",
       " 'Regroupement 3 effectué par les formations pour les classements',\n",
       " 'Rang du dernier appelé du groupe 3',\n",
       " 'list_com',\n",
       " 'tri',\n",
       " 'cod_aff_form',\n",
       " \"Concours communs et banque d'épreuves\",\n",
       " 'Lien de la formation sur la plateforme Parcoursup',\n",
       " 'Taux d’accès',\n",
       " 'Part des terminales générales qui étaient en position de recevoir une proposition en phase principale',\n",
       " 'Part des terminales technologiques qui étaient en position de recevoir une proposition en phase principale',\n",
       " 'Part des terminales professionnelles qui étaient en position de recevoir une proposition en phase principale',\n",
       " 'etablissement_id_paysage',\n",
       " 'composante_id_paysage']"
      ]
     },
     "execution_count": 9,
     "metadata": {},
     "output_type": "execute_result"
    }
   ],
   "source": [
    "#Aperçu des colonnes (Type 1)\n",
    "#On affiche uniquement les colonnes du dataframes de 2023 car ce-dernier est le plus complets et reprend les colonnes des précédents\n",
    "dvre2023_df.columns.to_list()"
   ]
  },
  {
   "cell_type": "code",
   "execution_count": 10,
   "id": "c536be00-a2bc-4c5f-8975-4851dd5cdb8e",
   "metadata": {},
   "outputs": [
    {
     "data": {
      "text/plain": [
       "['Année du Baccalauréat',\n",
       " 'Enseignements de spécialité',\n",
       " 'Formation',\n",
       " 'Nombre de candidats bacheliers ayant confirmé au moins un vœu',\n",
       " \"Nombre de candidats bacheliers ayant reçu au moins une proposition d'admission\",\n",
       " \"Nombre de candidats bacheliers ayant accepté une proposition d'admission\"]"
      ]
     },
     "execution_count": 10,
     "metadata": {},
     "output_type": "execute_result"
    }
   ],
   "source": [
    "#Aperçu des colonnes (Type 2)\n",
    "dvps_df.columns.to_list()"
   ]
  },
  {
   "cell_type": "markdown",
   "id": "54f2b63c-91c2-48f4-bad2-eb9a37116316",
   "metadata": {},
   "source": [
    "Observons maintenant si certaines variables contiennent un nombre élevé de valeur nulle."
   ]
  },
  {
   "cell_type": "markdown",
   "id": "e96fcb83-0144-4046-bc35-43ac0444fb90",
   "metadata": {},
   "source": [
    "**Type 1**"
   ]
  },
  {
   "cell_type": "code",
   "execution_count": 11,
   "id": "f612f947-b7f8-4dd5-8f4f-7c546fa4d3d6",
   "metadata": {},
   "outputs": [],
   "source": [
    "#From \"main_study\"\n",
    "def perc_null (df): \n",
    "    return(df.isnull().sum() * 100 / len(df)).round(2)"
   ]
  },
  {
   "cell_type": "code",
   "execution_count": 12,
   "id": "fc4ea83c-030f-4d1b-a880-0727099e3609",
   "metadata": {},
   "outputs": [
    {
     "data": {
      "text/plain": [
       "Session                                                                                                                                              0.00\n",
       "Statut de l’établissement de la filière de formation (public, privé…)                                                                                0.00\n",
       "Code UAI de l'établissement                                                                                                                          0.00\n",
       "Établissement                                                                                                                                        0.00\n",
       "Code départemental de l’établissement                                                                                                                0.00\n",
       "Département de l’établissement                                                                                                                       0.00\n",
       "Région de l’établissement                                                                                                                            0.00\n",
       "Académie de l’établissement                                                                                                                          0.00\n",
       "Commune de l’établissement                                                                                                                           0.20\n",
       "Filière de formation                                                                                                                                 0.00\n",
       "Sélectivité                                                                                                                                          0.00\n",
       "Filière de formation très agrégée                                                                                                                    0.00\n",
       "Filière de formation détaillée                                                                                                                       0.00\n",
       "Filière de formation.1                                                                                                                               0.00\n",
       "Filière de formation détaillée bis                                                                                                                   0.00\n",
       "Filière de formation très détaillée                                                                                                                 70.11\n",
       "Coordonnées GPS de la formation                                                                                                                      0.57\n",
       "Capacité de l’établissement par formation                                                                                                            0.00\n",
       "Effectif total des candidats pour une formation                                                                                                      0.00\n",
       "Dont effectif des candidates pour une formation                                                                                                      0.00\n",
       "Effectif total des candidats en phase principale                                                                                                     0.00\n",
       "Dont effectif des candidats ayant postulé en internat                                                                                               92.85\n",
       "Effectif des candidats néo bacheliers généraux en phase principale                                                                                   0.00\n",
       "Dont effectif des candidats boursiers néo bacheliers généraux en phase principale                                                                    0.00\n",
       "Effectif des candidats néo bacheliers technologiques en phase principale                                                                             0.00\n",
       "Dont effectif des candidats boursiers néo bacheliers technologiques en phase principale                                                              0.00\n",
       "Effectif des candidats néo bacheliers professionnels en phase principale                                                                             0.00\n",
       "Dont effectif des candidats boursiers néo bacheliers professionnels en phase principale                                                              0.00\n",
       "Effectif des autres candidats en phase principale                                                                                                    0.00\n",
       "Effectif total des candidats en phase complémentaire                                                                                                 0.00\n",
       "Effectif des candidats néo bacheliers généraux en phase complémentaire                                                                               0.00\n",
       "Effectif des candidats néo bacheliers technologique en phase complémentaire                                                                          0.00\n",
       "Effectif des candidats néo bacheliers professionnels en phase complémentaire                                                                         0.00\n",
       "Effectifs des autres candidats en phase complémentaire                                                                                               0.00\n",
       "Effectif total des candidats classés par l’établissement en phase principale                                                                         0.00\n",
       "Effectif des candidats classés par l’établissement en phase complémentaire                                                                           0.00\n",
       "Effectif des candidats classés par l’établissement en internat (CPGE)                                                                               92.85\n",
       "Effectif des candidats classés par l’établissement hors internat (CPGE)                                                                             92.85\n",
       "Effectif des candidats néo bacheliers généraux classés par l’établissement                                                                           0.00\n",
       "Dont effectif des candidats boursiers néo bacheliers généraux classés par l’établissement                                                            0.00\n",
       "Effectif des candidats néo bacheliers technologiques classés par l’établissement                                                                     0.00\n",
       "Dont effectif des candidats boursiers néo bacheliers technologiques classés par l’établissement                                                      0.00\n",
       "Effectif des candidats néo bacheliers professionnels classés par l’établissement                                                                     0.00\n",
       "Dont effectif des candidats boursiers néo bacheliers professionnels classés par l’établissement                                                      0.00\n",
       "Effectif des autres candidats classés par l’établissement                                                                                            0.00\n",
       "Effectif total des candidats ayant reçu une proposition d’admission de la part de l’établissement                                                    0.00\n",
       "Effectif total des candidats ayant accepté la proposition de l’établissement (admis)                                                                 0.00\n",
       "Dont effectif des candidates admises                                                                                                                 0.00\n",
       "Effectif des admis en phase principale                                                                                                               0.00\n",
       "Effectif des admis en phase complémentaire                                                                                                           0.00\n",
       "Dont effectif des admis ayant reçu leur proposition d’admission à l'ouverture de la procédure principale                                             0.00\n",
       "Dont effectif des admis ayant reçu leur proposition d’admission avant le baccalauréat                                                                0.00\n",
       "Dont effectif des admis ayant reçu leur proposition d’admission avant la fin de la procédure principale                                              0.00\n",
       "Dont effectif des admis en internat                                                                                                                 92.85\n",
       "Dont effectif des admis boursiers néo bacheliers                                                                                                     0.00\n",
       "Effectif des admis néo bacheliers                                                                                                                    0.00\n",
       "Effectif des admis néo bacheliers généraux                                                                                                           0.00\n",
       "Effectif des admis néo bacheliers technologiques                                                                                                     0.00\n",
       "Effectif des admis néo bacheliers professionnels                                                                                                     0.00\n",
       "Effectif des autres candidats admis                                                                                                                  0.00\n",
       "Dont effectif des admis néo bacheliers sans information sur la mention au bac                                                                        0.00\n",
       "Dont effectif des admis néo bacheliers sans mention au bac                                                                                           0.00\n",
       "Dont effectif des admis néo bacheliers avec mention Assez Bien au bac                                                                                0.00\n",
       "Dont effectif des admis néo bacheliers avec mention Bien au bac                                                                                      0.00\n",
       "Dont effectif des admis néo bacheliers avec mention Très Bien au bac                                                                                 0.00\n",
       "Dont effectif des admis néo bacheliers avec mention Très Bien avec félicitations au bac                                                              0.00\n",
       "Effectif des admis néo bacheliers généraux ayant eu une mention au bac                                                                               0.00\n",
       "Effectif des admis néo bacheliers technologiques ayant eu une mention au bac                                                                         0.00\n",
       "Effectif des admis néo bacheliers professionnels ayant eu une mention au bac                                                                         0.00\n",
       "Dont effectif des admis issus du même établissement (BTS/CPGE)                                                                                      54.01\n",
       "Dont effectif des admises issues du même établissement (BTS/CPGE)                                                                                   54.01\n",
       "Dont effectif des admis issus de la même académie                                                                                                    0.00\n",
       "Dont effectif des admis issus de la même académie (Paris/Créteil/Versailles réunies)                                                                 0.00\n",
       "% d’admis ayant reçu leur proposition d’admission à l'ouverture de la procédure principale                                                           0.26\n",
       "% d’admis ayant reçu leur proposition d’admission avant le baccalauréat                                                                              0.26\n",
       "% d’admis ayant reçu leur proposition d’admission avant la fin de la procédure principale                                                            0.26\n",
       "% d’admis dont filles                                                                                                                                0.26\n",
       "% d’admis néo bacheliers issus de la même académie                                                                                                   0.55\n",
       "% d’admis néo bacheliers issus de la même académie (Paris/Créteil/Versailles réunies)                                                                0.55\n",
       "% d’admis néo bacheliers issus du même établissement (BTS/CPGE)                                                                                     35.68\n",
       "% d’admis néo bacheliers boursiers                                                                                                                   0.55\n",
       "% d’admis néo bacheliers                                                                                                                             0.26\n",
       "% d’admis néo bacheliers sans information sur la mention au bac                                                                                      0.55\n",
       "% d’admis néo bacheliers sans mention au bac                                                                                                         0.55\n",
       "% d’admis néo bacheliers avec mention Assez Bien au bac                                                                                              0.55\n",
       "% d’admis néo bacheliers avec mention Bien au bac                                                                                                    0.55\n",
       "% d’admis néo bacheliers avec mention Très Bien au bac                                                                                               0.55\n",
       "% d’admis néo bacheliers avec mention Très Bien avec félicitations au bac                                                                            0.55\n",
       "% d’admis néo bacheliers généraux                                                                                                                    0.55\n",
       "Dont % d’admis avec mention (BG)                                                                                                                     0.55\n",
       "% d’admis néo bacheliers technologiques                                                                                                              0.55\n",
       "Dont % d’admis avec mention (BT)                                                                                                                     0.55\n",
       "% d’admis néo bacheliers professionnels                                                                                                              0.55\n",
       "Dont % d’admis avec mention (BP)                                                                                                                     0.55\n",
       "Effectif des candidats en terminale générale ayant reçu une proposition d’admission de la part de l’établissement                                    0.00\n",
       "Dont effectif des candidats boursiers en terminale générale ayant reçu une proposition d’admission de la part de l’établissement                     0.00\n",
       "Effectif des candidats en terminale technologique ayant reçu une proposition d’admission de la part de l’établissement                               0.00\n",
       "Dont effectif des candidats boursiers en terminale technologique ayant reçu une proposition d’admission de la part de l’établissement                0.00\n",
       "Effectif des candidats en terminale professionnelle ayant reçu une proposition d’admission de la part de l’établissement                             0.00\n",
       "Dont effectif des candidats boursiers en terminale générale professionnelle ayant reçu une proposition d’admission de la part de l’établissement     0.00\n",
       "Effectif des autres candidats ayant reçu une proposition d’admission de la part de l’établissement                                                   0.00\n",
       "Regroupement 1 effectué par les formations pour les classements                                                                                      2.86\n",
       "Rang du dernier appelé du groupe 1                                                                                                                   2.86\n",
       "Regroupement 2 effectué par les formations pour les classements                                                                                     55.22\n",
       "Rang du dernier appelé du groupe 2                                                                                                                  55.22\n",
       "Regroupement 3 effectué par les formations pour les classements                                                                                     72.00\n",
       "Rang du dernier appelé du groupe 3                                                                                                                  72.00\n",
       "list_com                                                                                                                                             0.00\n",
       "tri                                                                                                                                                  0.00\n",
       "cod_aff_form                                                                                                                                         0.00\n",
       "Concours communs et banque d'épreuves                                                                                                               95.21\n",
       "Lien de la formation sur la plateforme Parcoursup                                                                                                    1.91\n",
       "Taux d’accès                                                                                                                                         1.07\n",
       "Part des terminales générales qui étaient en position de recevoir une proposition en phase principale                                                0.34\n",
       "Part des terminales technologiques qui étaient en position de recevoir une proposition en phase principale                                           0.34\n",
       "Part des terminales professionnelles qui étaient en position de recevoir une proposition en phase principale                                         0.34\n",
       "etablissement_id_paysage                                                                                                                            52.69\n",
       "composante_id_paysage                                                                                                                               98.44\n",
       "dtype: float64"
      ]
     },
     "metadata": {},
     "output_type": "display_data"
    }
   ],
   "source": [
    "nullpercl = perc_null(dvre2023_22_21_df)\n",
    "with pd.option_context('display.max_rows', None): \n",
    "    display(nullpercl)"
   ]
  },
  {
   "cell_type": "code",
   "execution_count": 13,
   "id": "cb7e6edf-4a65-4f04-9846-c49457516e78",
   "metadata": {},
   "outputs": [
    {
     "data": {
      "text/plain": [
       "Session                                                                                                                                              0.00\n",
       "Statut de l’établissement de la filière de formation (public, privé…)                                                                                0.00\n",
       "Code UAI de l'établissement                                                                                                                          0.00\n",
       "Établissement                                                                                                                                        0.00\n",
       "Code départemental de l’établissement                                                                                                                0.00\n",
       "Département de l’établissement                                                                                                                       0.00\n",
       "Région de l’établissement                                                                                                                            0.00\n",
       "Académie de l’établissement                                                                                                                          0.00\n",
       "Sélectivité                                                                                                                                          0.00\n",
       "Filière de formation très agrégée                                                                                                                    0.00\n",
       "Filière de formation détaillée                                                                                                                       0.00\n",
       "Filière de formation                                                                                                                                 0.00\n",
       "Concours communs et banques d'épreuves                                                                                                              95.98\n",
       "Filière de formation détaillée.1                                                                                                                     0.00\n",
       "Filière de formation très détaillée                                                                                                                 73.36\n",
       "Lien de la formation sur la plateforme Parcoursup                                                                                                    1.41\n",
       "Coordonnées GPS de la formation                                                                                                                      1.40\n",
       "Capacité de l’établissement par formation                                                                                                            0.01\n",
       "Effectif total des candidats pour une formation                                                                                                      0.00\n",
       "Dont effectif des candidates pour une formation                                                                                                      0.00\n",
       "Effectif total des candidats en phase principale                                                                                                     0.00\n",
       "Dont effectif des candidats ayant postulé en internat                                                                                               93.36\n",
       "Effectif des candidats néo bacheliers généraux en phase principale                                                                                   0.00\n",
       "Dont effectif des candidats boursiers néo bacheliers généraux en phase principale                                                                    0.00\n",
       "Effectif des candidats néo bacheliers technologiques en phase principale                                                                             0.00\n",
       "Dont effectif des candidats boursiers néo bacheliers technologiques en phase principale                                                              0.00\n",
       "Effectif des candidats néo bacheliers professionnels en phase principale                                                                             0.00\n",
       "Dont effectif des candidats boursiers néo bacheliers professionnels en phase principale                                                              0.00\n",
       "Effectif des autres candidats en phase principale                                                                                                    0.00\n",
       "Effectif total des candidats en phase complémentaire                                                                                                 0.00\n",
       "Effectif des candidats néo bacheliers généraux en phase complémentaire                                                                               0.00\n",
       "Effectif des candidats néo bacheliers technologique en phase complémentaire                                                                          0.00\n",
       "Effectif des candidats néo bacheliers professionnels en phase complémentaire                                                                         0.00\n",
       "Effectifs des autres candidats en phase complémentaire                                                                                               0.00\n",
       "Effectif total des candidats classés par l’établissement en phase principale                                                                         0.00\n",
       "Effectif des candidats classés par l’établissement en phase complémentaire                                                                           0.00\n",
       "Effectif des candidats classés par l’établissement en internat (CPGE)                                                                               93.36\n",
       "Effectif des candidats classés par l’établissement hors internat (CPGE)                                                                             93.36\n",
       "Effectif des candidats néo bacheliers généraux classés par l’établissement                                                                           0.00\n",
       "Dont effectif des candidats boursiers néo bacheliers généraux classés par l’établissement                                                            0.00\n",
       "Effectif des candidats néo bacheliers technologiques classés par l’établissement                                                                     0.00\n",
       "Dont effectif des candidats boursiers néo bacheliers technologiques classés par l’établissement                                                      0.00\n",
       "Effectif des candidats néo bacheliers professionnels classés par l’établissement                                                                     0.00\n",
       "Dont effectif des candidats boursiers néo bacheliers professionnels classés par l’établissement                                                      0.00\n",
       "Effectif des autres candidats classés par l’établissement                                                                                            0.00\n",
       "Effectif total des candidats ayant reçu une proposition d’admission de la part de l’établissement                                                    0.00\n",
       "Effectif total des candidats ayant accepté la proposition de l’établissement (admis)                                                                 0.00\n",
       "Dont effectif des candidates admises                                                                                                                 0.00\n",
       "Effectif des admis en phase principale                                                                                                               0.00\n",
       "Effectif des admis en phase complémentaire                                                                                                           0.00\n",
       "Dont effectif des admis ayant reçu leur proposition d’admission à l'ouverture de la procédure principale                                             0.00\n",
       "Dont effectif des admis ayant reçu leur proposition d’admission avant le baccalauréat                                                                0.00\n",
       "Dont effectif des admis ayant reçu leur proposition d’admission avant la fin de la procédure principale                                              0.00\n",
       "Dont effectif des admis en internat                                                                                                                 93.36\n",
       "Dont effectif des admis boursiers néo bacheliers                                                                                                     0.00\n",
       "Effectif des admis néo bacheliers                                                                                                                    0.00\n",
       "Effectif des admis néo bacheliers généraux                                                                                                           0.00\n",
       "Effectif des admis néo bacheliers technologiques                                                                                                     0.00\n",
       "Effectif des admis néo bacheliers professionnels                                                                                                     0.00\n",
       "Effectif des autres candidats admis                                                                                                                  0.00\n",
       "Dont effectif des admis néo bacheliers sans information sur la mention au bac                                                                        0.00\n",
       "Dont effectif des admis néo bacheliers sans mention au bac                                                                                           0.00\n",
       "Dont effectif des admis néo bacheliers avec mention Assez Bien au bac                                                                                0.00\n",
       "Dont effectif des admis néo bacheliers avec mention Bien au bac                                                                                      0.00\n",
       "Dont effectif des admis néo bacheliers avec mention Très Bien au bac                                                                                 0.00\n",
       "Effectif des admis néo bacheliers généraux ayant eu une mention au bac                                                                               0.00\n",
       "Effectif des admis néo bacheliers technologiques ayant eu une mention au bac                                                                         0.00\n",
       "Effectif des admis néo bacheliers professionnels ayant eu une mention au bac                                                                         0.00\n",
       "Dont effectif des admis issus du même établissement (BTS/CPGE)                                                                                      52.82\n",
       "Dont effectif des admises issues du même établissement (BTS/CPGE)                                                                                   52.82\n",
       "Dont effectif des admis issus de la même académie                                                                                                    0.00\n",
       "Dont effectif des admis issus de la même académie (Paris/Créteil/Versailles réunies)                                                                 0.00\n",
       "% d’admis ayant reçu leur proposition d’admission à l'ouverture de la procédure principale                                                           0.51\n",
       "% d’admis ayant reçu leur proposition d’admission avant le baccalauréat                                                                              0.51\n",
       "% d’admis ayant reçu leur proposition d’admission avant la fin de la procédure principale                                                            0.51\n",
       "% d’admis dont filles                                                                                                                                0.51\n",
       "% d’admis néo bacheliers issus de la même académie                                                                                                   1.25\n",
       "% d’admis néo bacheliers issus de la même académie (Paris/Créteil/Versailles réunies)                                                                1.25\n",
       "% d’admis néo bacheliers issus du même établissement (BTS/CPGE)                                                                                     52.88\n",
       "% d’admis néo bacheliers boursiers                                                                                                                   1.25\n",
       "% d’admis néo bacheliers                                                                                                                             0.51\n",
       "% d’admis néo bacheliers sans information sur la mention au bac                                                                                      1.25\n",
       "% d’admis néo bacheliers sans mention au bac                                                                                                         1.25\n",
       "% d’admis néo bacheliers avec mention Assez Bien au bac                                                                                              1.25\n",
       "% d’admis néo bacheliers avec mention Bien au bac                                                                                                    1.25\n",
       "% d’admis néo bacheliers avec mention Très Bien au bac                                                                                               1.25\n",
       "% d’admis néo bacheliers généraux                                                                                                                    1.25\n",
       "Dont % d’admis avec mention                                                                                                                          1.25\n",
       "% d’admis néo bacheliers technologiques                                                                                                              1.25\n",
       "Dont % d’admis avec mention.1                                                                                                                        1.25\n",
       "% d’admis néo bacheliers professionnels                                                                                                              1.25\n",
       "Dont % d’admis avec mention.2                                                                                                                        1.25\n",
       "Effectif des candidats en terminale générale ayant reçu une proposition d’admission de la part de l’établissement                                    0.00\n",
       "Dont effectif des candidats boursiers en terminale générale ayant reçu une proposition d’admission de la part de l’établissement                     0.00\n",
       "Effectif des candidats en terminale technologique ayant reçu une proposition d’admission de la part de l’établissement                               0.00\n",
       "Dont effectif des candidats boursiers en terminale technologique ayant reçu une proposition d’admission de la part de l’établissement                0.00\n",
       "Effectif des candidats en terminale professionnelle ayant reçu une proposition d’admission de la part de l’établissement                             0.00\n",
       "Dont effectif des candidats boursiers en terminale générale professionnelle ayant reçu une proposition d’admission de la part de l’établissement     0.00\n",
       "Effectif des autres candidats ayant reçu une proposition d’admission de la part de l’établissement                                                   0.00\n",
       "Regroupement 1 effectué par les formations pour les classements                                                                                      1.83\n",
       "Rang du dernier appelé du groupe 1                                                                                                                   1.83\n",
       "Regroupement 2 effectué par les formations pour les classements                                                                                     53.25\n",
       "Rang du dernier appelé du groupe 2                                                                                                                  53.25\n",
       "Regroupement 3 effectué par les formations pour les classements                                                                                     69.85\n",
       "Rang du dernier appelé du groupe 3                                                                                                                  69.85\n",
       "Regroupement 4 effectué par les formations pour les classements                                                                                     99.89\n",
       "Rang du dernier appelé du groupe 4                                                                                                                  99.89\n",
       "Regroupement 5 effectué par les formations pour les classements                                                                                     99.89\n",
       "Rang du dernier appelé du groupe 5                                                                                                                  99.89\n",
       "Indicateur Parcoursup du taux d’accès des candidats ayant postulé à la formation (ratio entre le dernier appelé et le dernier classé)                1.83\n",
       "Dont taux d’accès des candidats ayant un bac professionnel ayant postulé à la formation                                                              8.32\n",
       "Dont taux d’accès des candidats ayant un bac général ayant postulé à la formation                                                                    8.32\n",
       "Dont taux d’accès des candidats ayant un bac technologique ayant postulé à la formation                                                              8.32\n",
       "tri                                                                                                                                                  0.00\n",
       "COD_AFF_FORM                                                                                                                                         0.00\n",
       "dtype: float64"
      ]
     },
     "metadata": {},
     "output_type": "display_data"
    }
   ],
   "source": [
    "nullpercl = perc_null(dvre2020_df)\n",
    "with pd.option_context('display.max_rows', None): \n",
    "    display(nullpercl)"
   ]
  },
  {
   "cell_type": "code",
   "execution_count": 14,
   "id": "d959afdb-2ca0-4479-8b1e-b69d99e63f03",
   "metadata": {},
   "outputs": [
    {
     "data": {
      "text/plain": [
       "Session                                                                                                      0.00\n",
       "Statut de l’établissement de la filière de formation (public, privé…)                                        0.00\n",
       "Code UAI de l'établissement                                                                                  0.00\n",
       "Établissement                                                                                                0.00\n",
       "Code départemental de l’établissement                                                                        0.00\n",
       "Département de l’établissement                                                                               0.00\n",
       "Région de l’établissement                                                                                    0.00\n",
       "Académie de l’établissement                                                                                  0.00\n",
       "Filière de formation très agrégée                                                                            0.00\n",
       "Filière de formation                                                                                         0.00\n",
       "Concours communs et banques d'épreuves                                                                      96.97\n",
       "Filière de formation détaillée                                                                               0.00\n",
       "Filière de formation très détaillée                                                                         75.24\n",
       "Lien de la formation sur la plateforme Parcoursup                                                            5.39\n",
       "Coordonnées GPS de la formation                                                                              1.49\n",
       "Capacité de l’établissement par formation                                                                    0.16\n",
       "Effectif total des candidats pour une formation                                                              0.00\n",
       "Dont effectif des candidates pour une formation                                                              0.00\n",
       "Effectif total des candidats en phase principale                                                             0.00\n",
       "Dont effectif des candidats ayant postulé en internat                                                       92.67\n",
       "Effectif des candidats néo bacheliers généraux en phase principale                                           0.00\n",
       "Dont effectif des candidats boursiers néo bacheliers généraux en phase principale                            0.00\n",
       "Effectif des candidats néo bacheliers technologiques en phase principale                                     0.00\n",
       "Dont effectif des candidats boursiers néo bacheliers technologiques en phase principale                      0.00\n",
       "Effectif des candidats néo bacheliers professionnels en phase principale                                     0.00\n",
       "Dont effectif des candidats boursiers néo bacheliers professionnels en phase principale                      0.00\n",
       "Effectif des autres candidats en phase principale                                                            0.00\n",
       "Effectif total des candidats en phase complémentaire                                                         0.00\n",
       "Effectif des candidats néo bacheliers généraux en phase complémentaire                                       0.00\n",
       "Effectif des candidats néo bacheliers technologique en phase complémentaire                                  0.00\n",
       "Effectif des candidats néo bacheliers professionnels en phase complémentaire                                 0.00\n",
       "Effectifs des autres candidats en phase complémentaire                                                       0.00\n",
       "Effectif total des candidats classés par l’établissement en phase principale                                 0.00\n",
       "Effectif des candidats classés par l’établissement en phase complémentaire                                   0.00\n",
       "Effectif des candidats classés par l’établissement en internat (CPGE)                                       92.67\n",
       "Effectif des candidats classés par l’établissement hors internat (CPGE)                                     92.67\n",
       "Effectif des candidats néo bacheliers généraux classés par l’établissement                                   0.00\n",
       "Dont effectif des candidats boursiers néo bacheliers généraux classés par l’établissement                    0.00\n",
       "Effectif des candidats néo bacheliers technologiques classés par l’établissement                             0.00\n",
       "Dont effectif des candidats boursiers néo bacheliers technologiques classés par l’établissement              0.00\n",
       "Effectif des candidats néo bacheliers professionnels classés par l’établissement                             0.00\n",
       "Dont effectif des candidats boursiers néo bacheliers professionnels classés par l’établissement              0.00\n",
       "Effectif des autres candidats classés par l’établissement                                                    0.00\n",
       "Effectif total des candidats ayant reçu une proposition d’admission de la part de l’établissement            0.00\n",
       "Rang du dernier appelé                                                                                      51.28\n",
       "Effectif total des candidats ayant accepté la proposition de l’établissement (admis)                         0.00\n",
       "Dont effectif des candidates admises                                                                         0.00\n",
       "Effectif des admis en phase principale                                                                       0.00\n",
       "Effectif des admis en phase complémentaire                                                                   0.00\n",
       "Dont effectif des admis ayant reçu leur proposition d’admission à l'ouverture de la procédure principale     0.00\n",
       "Dont effectif des admis ayant reçu leur proposition d’admission avant le baccalauréat                        0.00\n",
       "Dont effectif des admis ayant reçu leur proposition d’admission avant la fin de la procédure principale      0.00\n",
       "Dont effectif des admis en internat                                                                         92.67\n",
       "Dont effectif des admis boursiers néo bacheliers                                                             0.00\n",
       "Effectif des admis néo bacheliers                                                                            0.00\n",
       "Effectif des admis néo bacheliers généraux                                                                   0.00\n",
       "Effectif des admis néo bacheliers technologiques                                                             0.00\n",
       "Effectif des admis néo bacheliers professionnels                                                             0.00\n",
       "Effectif des autres candidats admis                                                                          0.00\n",
       "Dont effectif des admis néo bacheliers sans information sur la mention au bac                                0.00\n",
       "Dont effectif des admis néo bacheliers sans mention au bac                                                   0.00\n",
       "Dont effectif des admis néo bacheliers avec mention Assez Bien au bac                                        0.00\n",
       "Dont effectif des admis néo bacheliers avec mention Bien au bac                                              0.00\n",
       "Dont effectif des admis néo bacheliers avec mention Très Bien au bac                                         0.00\n",
       "Effectif des admis néo bacheliers généraux ayant eu une mention au bac                                       0.00\n",
       "Effectif des admis néo bacheliers technologiques ayant eu une mention au bac                                 0.00\n",
       "Effectif des admis néo bacheliers professionnels ayant eu une mention au bac                                 0.00\n",
       "Dont effectif des admis issus du même établissement (BTS/CPGE)                                              48.54\n",
       "Dont effectif des admises issues du même établissement (BTS/CPGE)                                           48.54\n",
       "Dont effectif des admis issus de la même académie                                                            0.00\n",
       "Dont effectif des admis issus de la même académie (Paris/Créteil/Versailles réunies)                         0.00\n",
       "% d’admis ayant reçu leur proposition d’admission à l'ouverture de la procédure principale                   0.44\n",
       "% d’admis ayant reçu leur proposition d’admission avant le baccalauréat                                      0.44\n",
       "% d’admis ayant reçu leur proposition d’admission avant la fin de la procédure principale                    0.44\n",
       "% d’admis dont filles                                                                                        0.44\n",
       "% d’admis néo bacheliers issus de la même académie                                                           1.17\n",
       "% d’admis néo bacheliers issus de la même académie (Paris/Créteil/Versailles réunies)                        1.17\n",
       "% d’admis néo bacheliers issus du même établissement (BTS/CPGE)                                             48.59\n",
       "% d’admis néo bacheliers boursiers                                                                           1.17\n",
       "% d’admis néo bacheliers                                                                                     0.44\n",
       "% d’admis néo bacheliers sans information sur la mention au bac                                              1.17\n",
       "% d’admis néo bacheliers sans mention au bac                                                                 1.17\n",
       "% d’admis néo bacheliers avec mention Assez Bien au bac                                                      1.17\n",
       "% d’admis néo bacheliers avec mention Bien au bac                                                            1.17\n",
       "% d’admis néo bacheliers avec mention Très Bien au bac                                                       1.17\n",
       "% d’admis néo bacheliers généraux                                                                            1.17\n",
       "Dont % d’admis avec mention                                                                                  1.17\n",
       "% d’admis néo bacheliers technologiques                                                                      1.17\n",
       "Dont % d’admis avec mention.1                                                                                1.17\n",
       "% d’admis néo bacheliers professionnels                                                                      1.17\n",
       "Dont % d’admis avec mention.2                                                                                1.17\n",
       "tri                                                                                                          0.00\n",
       "dtype: float64"
      ]
     },
     "metadata": {},
     "output_type": "display_data"
    }
   ],
   "source": [
    "nullpercl = perc_null(dvre2019_df)\n",
    "with pd.option_context('display.max_rows', None): \n",
    "    display(nullpercl)"
   ]
  },
  {
   "cell_type": "code",
   "execution_count": 15,
   "id": "112761c3-501f-4e22-a140-efedc859e87e",
   "metadata": {},
   "outputs": [
    {
     "data": {
      "text/plain": [
       "Session                                                                                               0.00\n",
       "Code UAI de l'établissement                                                                           0.00\n",
       "Établissement                                                                                         0.00\n",
       "Code départemental de l’établissement                                                                 0.00\n",
       "Département de l’établissement                                                                        0.00\n",
       "Région de l’établissement                                                                             0.00\n",
       "Académie de l’établissement                                                                           0.00\n",
       "Filière de formation très agrégée                                                                     0.00\n",
       "Filière de formation                                                                                  0.00\n",
       "Concours communs et banques d'épreuves                                                               97.43\n",
       "Filière de formation détaillée                                                                        0.00\n",
       "Filière de formation très détaillée                                                                  77.39\n",
       "Lien de la formation sur la plateforme Parcoursup                                                     7.64\n",
       "Coordonnées GPS de la formation                                                                       7.64\n",
       "Capacité de l’établissement par formation                                                             0.00\n",
       "Effectif total des candidats pour une formation                                                       0.00\n",
       "Dont effectif des candidates pour une formation                                                       0.00\n",
       "Effectif total des candidats en phase principale                                                      0.00\n",
       "Dont effectif des candidats ayant postulé en internat                                                92.09\n",
       "Effectif des candidats néo bacheliers généraux en phase principale                                    0.00\n",
       "Dont effectif des candidats boursiers néo bacheliers généraux en phase principale                     0.00\n",
       "Effectif des candidats néo bacheliers technologiques en phase principale                              0.00\n",
       "Dont effectif des candidats boursiers néo bacheliers technologiques en phase principale               0.00\n",
       "Effectif des candidats néo bacheliers professionnels en phase principale                              0.00\n",
       "Dont effectif des candidats boursiers néo bacheliers professionnels en phase principale               0.00\n",
       "Effectif des autres candidats en phase principale                                                     0.00\n",
       "Effectif total des candidats en phase complémentaire                                                  0.00\n",
       "Effectif des candidats néo bacheliers généraux en phase complémentaire                                0.00\n",
       "Effectif des candidats néo bacheliers technologique en phase complémentaire                           0.00\n",
       "Effectif des candidats néo bacheliers professionnels en phase complémentaire                          0.00\n",
       "Effectifs des autres candidats en phase complémentaire                                                0.00\n",
       "Effectif total des candidats classés par l’établissement en phase principale                          0.00\n",
       "Effectif des candidats classés par l’établissement en phase complémentaire                            0.00\n",
       "Effectif des candidats classés par l’établissement en internat (CPGE)                                92.09\n",
       "Effectif des candidats classés par l’établissement hors internat (CPGE)                              92.09\n",
       "Effectif des candidats néo bacheliers généraux classés par l’établissement                            0.00\n",
       "Dont effectif des candidats boursiers néo bacheliers généraux classés par l’établissement             0.00\n",
       "Effectif des candidats néo bacheliers technologiques classés par l’établissement                      0.00\n",
       "Dont effectif des candidats boursiers néo bacheliers technologiques classés par l’établissement       0.00\n",
       "Effectif des candidats néo bacheliers professionnels classés par l’établissement                      0.00\n",
       "Dont effectif des candidats boursiers néo bacheliers professionnels classés par l’établissement       0.00\n",
       "Effectif des autres candidats classés par l’établissement                                             0.00\n",
       "Effectif total des candidats ayant reçu une proposition d’admission de la part de l’établissement     0.00\n",
       "Rang du dernier appelé                                                                               48.71\n",
       "Effectif total des candidats ayant accepté la proposition de l’établissement (admis)                  0.00\n",
       "Dont effectif des candidates admises                                                                  0.00\n",
       "Effectif des admis en phase principale                                                                0.00\n",
       "Effectif des admis en phase complémentaire                                                            0.00\n",
       "Dont effectif des admis en internat                                                                  92.09\n",
       "Dont effectif des admis boursiers néo bacheliers                                                      0.00\n",
       "Effectif des admis néo bacheliers                                                                     0.00\n",
       "Effectif des admis néo bacheliers généraux                                                            0.00\n",
       "Effectif des admis néo bacheliers technologiques                                                      0.00\n",
       "Effectif des admis néo bacheliers professionnels                                                      0.00\n",
       "Effectif des autres candidats admis                                                                   0.00\n",
       "Dont effectif des admis néo bacheliers sans information sur la mention au bac                         0.00\n",
       "Dont effectif des admis néo bacheliers sans mention au bac                                            0.00\n",
       "Dont effectif des admis néo bacheliers avec mention Assez Bien au bac                                 0.00\n",
       "Dont effectif des admis néo bacheliers avec mention Bien au bac                                       0.00\n",
       "Dont effectif des admis néo bacheliers avec mention Très Bien au bac                                  0.00\n",
       "Effectif des admis néo bacheliers généraux ayant eu une mention au bac                                0.00\n",
       "Effectif des admis néo bacheliers technologiques ayant eu une mention au bac                          0.00\n",
       "Effectif des admis néo bacheliers professionnels ayant eu une mention au bac                          0.00\n",
       "Dont effectif des admis issus du même établissement (BTS/CPGE)                                       44.41\n",
       "Dont effectif des admises issues du même établissement (BTS/CPGE)                                    44.41\n",
       "Dont effectif des admis issus de la même académie                                                     0.00\n",
       "Dont effectif des admis issus de la même académie (Paris/Créteil/Versailles réunies)                  0.00\n",
       "% d’admis dont filles                                                                                 0.85\n",
       "% d’admis néo bacheliers issus de la même académie                                                    1.54\n",
       "% d’admis néo bacheliers issus de la même académie (Paris/Créteil/Versailles réunies)                 1.54\n",
       "% d’admis néo bacheliers issus du même établissement (BTS/CPGE)                                      44.49\n",
       "% d’admis néo bacheliers boursiers                                                                    0.85\n",
       "% d’admis néo bacheliers                                                                              0.85\n",
       "% d’admis néo bacheliers sans information sur la mention au bac                                       1.54\n",
       "% d’admis néo bacheliers sans mention au bac                                                          1.54\n",
       "% d’admis néo bacheliers avec mention Assez Bien au bac                                               1.54\n",
       "% d’admis néo bacheliers avec mention Bien au bac                                                     1.54\n",
       "% d’admis néo bacheliers avec mention Très Bien au bac                                                1.54\n",
       "% d’admis néo bacheliers généraux                                                                     1.54\n",
       "Dont % d’admis avec mention                                                                           1.54\n",
       "% d’admis néo bacheliers technologiques                                                               1.54\n",
       "Dont % d’admis avec mention.1                                                                         1.54\n",
       "% d’admis néo bacheliers professionnels                                                               1.54\n",
       "Dont % d’admis avec mention.2                                                                         1.54\n",
       "tri                                                                                                   0.00\n",
       "dtype: float64"
      ]
     },
     "metadata": {},
     "output_type": "display_data"
    }
   ],
   "source": [
    "nullpercl = perc_null(dvre2018_df)\n",
    "with pd.option_context('display.max_rows', None): \n",
    "    display(nullpercl)"
   ]
  },
  {
   "cell_type": "markdown",
   "id": "da0512fb-ab94-4dc0-a21b-1dcb81f71932",
   "metadata": {},
   "source": [
    "On constate que la majorité des indicateurs contenat des valeurs nulles se réfèrent soit à des données géographique (id_paysage...), soit à des données relatives aux internat (CPGE, BTS), ou soit à des données concernant les groupes 2, 3, 4 et 5. \\\n",
    "En ce qui concerne ce type données géographique manquantes, ces dernières ne nous intéressent pas. On pourra donc les évincer. \\\n",
    "En ce qui concernent les groupes autres que le premier, ces valeurs nulles s'expliquent par le fait que toutes les formations ne passent pas nécéssairement par ces phases. Ces dernières étant d'autant moins nombreux que l'on avancent dans ces phases. Ainsi, ces données ne perdent pas de leur signifiance, au contraire. On les gardera donc. \\\n",
    "Enfin en ce qui concernent les données relatives aux CPGE, BTS et au internats, ce manque de données s'expliquent par le fait qu'elles sont spécifique à certaines formations. Ainsi, on les gardera aussi. *(Voir cellule suivante pour des explications)*."
   ]
  },
  {
   "cell_type": "code",
   "execution_count": 16,
   "id": "780da15a-abaf-4aa4-8848-05cd4171c880",
   "metadata": {},
   "outputs": [
    {
     "data": {
      "text/plain": [
       "Session                                                                                                                                               0.00\n",
       "Statut de l’établissement de la filière de formation (public, privé…)                                                                                 0.00\n",
       "Code UAI de l'établissement                                                                                                                           0.00\n",
       "Établissement                                                                                                                                         0.00\n",
       "Code départemental de l’établissement                                                                                                                 0.00\n",
       "Département de l’établissement                                                                                                                        0.00\n",
       "Région de l’établissement                                                                                                                             0.00\n",
       "Académie de l’établissement                                                                                                                           0.00\n",
       "Commune de l’établissement                                                                                                                            0.00\n",
       "Filière de formation                                                                                                                                  0.00\n",
       "Sélectivité                                                                                                                                           0.00\n",
       "Filière de formation très agrégée                                                                                                                     0.00\n",
       "Filière de formation détaillée                                                                                                                        0.00\n",
       "Filière de formation.1                                                                                                                                0.00\n",
       "Filière de formation détaillée bis                                                                                                                    0.00\n",
       "Filière de formation très détaillée                                                                                                                  98.67\n",
       "Coordonnées GPS de la formation                                                                                                                       0.21\n",
       "Capacité de l’établissement par formation                                                                                                             0.00\n",
       "Effectif total des candidats pour une formation                                                                                                       0.00\n",
       "Dont effectif des candidates pour une formation                                                                                                       0.00\n",
       "Effectif total des candidats en phase principale                                                                                                      0.00\n",
       "Dont effectif des candidats ayant postulé en internat                                                                                                 0.00\n",
       "Effectif des candidats néo bacheliers généraux en phase principale                                                                                    0.00\n",
       "Dont effectif des candidats boursiers néo bacheliers généraux en phase principale                                                                     0.00\n",
       "Effectif des candidats néo bacheliers technologiques en phase principale                                                                              0.00\n",
       "Dont effectif des candidats boursiers néo bacheliers technologiques en phase principale                                                               0.00\n",
       "Effectif des candidats néo bacheliers professionnels en phase principale                                                                              0.00\n",
       "Dont effectif des candidats boursiers néo bacheliers professionnels en phase principale                                                               0.00\n",
       "Effectif des autres candidats en phase principale                                                                                                     0.00\n",
       "Effectif total des candidats en phase complémentaire                                                                                                  0.00\n",
       "Effectif des candidats néo bacheliers généraux en phase complémentaire                                                                                0.00\n",
       "Effectif des candidats néo bacheliers technologique en phase complémentaire                                                                           0.00\n",
       "Effectif des candidats néo bacheliers professionnels en phase complémentaire                                                                          0.00\n",
       "Effectifs des autres candidats en phase complémentaire                                                                                                0.00\n",
       "Effectif total des candidats classés par l’établissement en phase principale                                                                          0.00\n",
       "Effectif des candidats classés par l’établissement en phase complémentaire                                                                            0.00\n",
       "Effectif des candidats classés par l’établissement en internat (CPGE)                                                                                 0.00\n",
       "Effectif des candidats classés par l’établissement hors internat (CPGE)                                                                               0.00\n",
       "Effectif des candidats néo bacheliers généraux classés par l’établissement                                                                            0.00\n",
       "Dont effectif des candidats boursiers néo bacheliers généraux classés par l’établissement                                                             0.00\n",
       "Effectif des candidats néo bacheliers technologiques classés par l’établissement                                                                      0.00\n",
       "Dont effectif des candidats boursiers néo bacheliers technologiques classés par l’établissement                                                       0.00\n",
       "Effectif des candidats néo bacheliers professionnels classés par l’établissement                                                                      0.00\n",
       "Dont effectif des candidats boursiers néo bacheliers professionnels classés par l’établissement                                                       0.00\n",
       "Effectif des autres candidats classés par l’établissement                                                                                             0.00\n",
       "Effectif total des candidats ayant reçu une proposition d’admission de la part de l’établissement                                                     0.00\n",
       "Effectif total des candidats ayant accepté la proposition de l’établissement (admis)                                                                  0.00\n",
       "Dont effectif des candidates admises                                                                                                                  0.00\n",
       "Effectif des admis en phase principale                                                                                                                0.00\n",
       "Effectif des admis en phase complémentaire                                                                                                            0.00\n",
       "Dont effectif des admis ayant reçu leur proposition d’admission à l'ouverture de la procédure principale                                              0.00\n",
       "Dont effectif des admis ayant reçu leur proposition d’admission avant le baccalauréat                                                                 0.00\n",
       "Dont effectif des admis ayant reçu leur proposition d’admission avant la fin de la procédure principale                                               0.00\n",
       "Dont effectif des admis en internat                                                                                                                   0.00\n",
       "Dont effectif des admis boursiers néo bacheliers                                                                                                      0.00\n",
       "Effectif des admis néo bacheliers                                                                                                                     0.00\n",
       "Effectif des admis néo bacheliers généraux                                                                                                            0.00\n",
       "Effectif des admis néo bacheliers technologiques                                                                                                      0.00\n",
       "Effectif des admis néo bacheliers professionnels                                                                                                      0.00\n",
       "Effectif des autres candidats admis                                                                                                                   0.00\n",
       "Dont effectif des admis néo bacheliers sans information sur la mention au bac                                                                         0.00\n",
       "Dont effectif des admis néo bacheliers sans mention au bac                                                                                            0.00\n",
       "Dont effectif des admis néo bacheliers avec mention Assez Bien au bac                                                                                 0.00\n",
       "Dont effectif des admis néo bacheliers avec mention Bien au bac                                                                                       0.00\n",
       "Dont effectif des admis néo bacheliers avec mention Très Bien au bac                                                                                  0.00\n",
       "Dont effectif des admis néo bacheliers avec mention Très Bien avec félicitations au bac                                                               0.00\n",
       "Effectif des admis néo bacheliers généraux ayant eu une mention au bac                                                                                0.00\n",
       "Effectif des admis néo bacheliers technologiques ayant eu une mention au bac                                                                          0.00\n",
       "Effectif des admis néo bacheliers professionnels ayant eu une mention au bac                                                                          0.00\n",
       "Dont effectif des admis issus du même établissement (BTS/CPGE)                                                                                        0.00\n",
       "Dont effectif des admises issues du même établissement (BTS/CPGE)                                                                                     0.00\n",
       "Dont effectif des admis issus de la même académie                                                                                                     0.00\n",
       "Dont effectif des admis issus de la même académie (Paris/Créteil/Versailles réunies)                                                                  0.00\n",
       "% d’admis ayant reçu leur proposition d’admission à l'ouverture de la procédure principale                                                            0.00\n",
       "% d’admis ayant reçu leur proposition d’admission avant le baccalauréat                                                                               0.00\n",
       "% d’admis ayant reçu leur proposition d’admission avant la fin de la procédure principale                                                             0.00\n",
       "% d’admis dont filles                                                                                                                                 0.00\n",
       "% d’admis néo bacheliers issus de la même académie                                                                                                    0.00\n",
       "% d’admis néo bacheliers issus de la même académie (Paris/Créteil/Versailles réunies)                                                                 0.00\n",
       "% d’admis néo bacheliers issus du même établissement (BTS/CPGE)                                                                                       0.17\n",
       "% d’admis néo bacheliers boursiers                                                                                                                    0.00\n",
       "% d’admis néo bacheliers                                                                                                                              0.00\n",
       "% d’admis néo bacheliers sans information sur la mention au bac                                                                                       0.00\n",
       "% d’admis néo bacheliers sans mention au bac                                                                                                          0.00\n",
       "% d’admis néo bacheliers avec mention Assez Bien au bac                                                                                               0.00\n",
       "% d’admis néo bacheliers avec mention Bien au bac                                                                                                     0.00\n",
       "% d’admis néo bacheliers avec mention Très Bien au bac                                                                                                0.00\n",
       "% d’admis néo bacheliers avec mention Très Bien avec félicitations au bac                                                                             0.00\n",
       "% d’admis néo bacheliers généraux                                                                                                                     0.00\n",
       "Dont % d’admis avec mention (BG)                                                                                                                      0.00\n",
       "% d’admis néo bacheliers technologiques                                                                                                               0.00\n",
       "Dont % d’admis avec mention (BT)                                                                                                                      0.00\n",
       "% d’admis néo bacheliers professionnels                                                                                                               0.00\n",
       "Dont % d’admis avec mention (BP)                                                                                                                      0.00\n",
       "Effectif des candidats en terminale générale ayant reçu une proposition d’admission de la part de l’établissement                                     0.00\n",
       "Dont effectif des candidats boursiers en terminale générale ayant reçu une proposition d’admission de la part de l’établissement                      0.00\n",
       "Effectif des candidats en terminale technologique ayant reçu une proposition d’admission de la part de l’établissement                                0.00\n",
       "Dont effectif des candidats boursiers en terminale technologique ayant reçu une proposition d’admission de la part de l’établissement                 0.00\n",
       "Effectif des candidats en terminale professionnelle ayant reçu une proposition d’admission de la part de l’établissement                              0.00\n",
       "Dont effectif des candidats boursiers en terminale générale professionnelle ayant reçu une proposition d’admission de la part de l’établissement      0.00\n",
       "Effectif des autres candidats ayant reçu une proposition d’admission de la part de l’établissement                                                    0.00\n",
       "Regroupement 1 effectué par les formations pour les classements                                                                                      11.97\n",
       "Rang du dernier appelé du groupe 1                                                                                                                   11.97\n",
       "Regroupement 2 effectué par les formations pour les classements                                                                                      97.61\n",
       "Rang du dernier appelé du groupe 2                                                                                                                   97.61\n",
       "Regroupement 3 effectué par les formations pour les classements                                                                                      97.81\n",
       "Rang du dernier appelé du groupe 3                                                                                                                   97.81\n",
       "list_com                                                                                                                                              0.00\n",
       "tri                                                                                                                                                   0.00\n",
       "cod_aff_form                                                                                                                                          0.00\n",
       "Concours communs et banque d'épreuves                                                                                                               100.00\n",
       "Lien de la formation sur la plateforme Parcoursup                                                                                                     0.24\n",
       "Taux d’accès                                                                                                                                          0.00\n",
       "Part des terminales générales qui étaient en position de recevoir une proposition en phase principale                                                 0.00\n",
       "Part des terminales technologiques qui étaient en position de recevoir une proposition en phase principale                                            0.00\n",
       "Part des terminales professionnelles qui étaient en position de recevoir une proposition en phase principale                                          0.00\n",
       "etablissement_id_paysage                                                                                                                             76.58\n",
       "composante_id_paysage                                                                                                                               100.00\n",
       "dtype: float64"
      ]
     },
     "metadata": {},
     "output_type": "display_data"
    }
   ],
   "source": [
    "# Etudes des valeurs nulles pour une formation spécifique, les CPGE.\n",
    "CPGE=\"CPGE\"\n",
    "with pd.option_context('display.max_rows', None): \n",
    "    display(perc_null(dvre2023_22_21_df.query(\" `Filière de formation très agrégée` == @CPGE \")))"
   ]
  },
  {
   "cell_type": "markdown",
   "id": "3a386e65-4e04-4bca-afd8-5bd8390e1b61",
   "metadata": {},
   "source": [
    "On constate que pour ce type de formation en particulier, les indicateurs relatifs au internats et (CPGE, BTS) ont **significativement** moins de valeurs nulle, d'où le choix précédent. Ce phénomène s'observe aussi sur d'autres formation (BTS par exemple) et pour d'autres indicateurs \n",
    " (banque d'épreuves par exemple)."
   ]
  },
  {
   "cell_type": "code",
   "execution_count": 17,
   "id": "18b58c0d-09f6-4802-9f73-7914e08791a2",
   "metadata": {},
   "outputs": [],
   "source": [
    "#Suppression des colonnes non significantes.\n",
    "dvre2023_22_21_df=dvre2023_22_21_df.drop(columns=[\"composante_id_paysage\", \"etablissement_id_paysage\"],errors =\"ignore\")\n",
    "#Supression de la mémoire des dataframes qui seront inutilisés\n",
    "del (dvre2023_df,dvre2022_df,dvre2021_df)"
   ]
  },
  {
   "cell_type": "markdown",
   "id": "6ff6e879-8822-4200-97e8-c40fcfde9a5d",
   "metadata": {},
   "source": [
    "**Type 2**"
   ]
  },
  {
   "cell_type": "code",
   "execution_count": 18,
   "id": "cf8d601c-033d-455c-89e9-f0c223548fff",
   "metadata": {},
   "outputs": [
    {
     "data": {
      "text/plain": [
       "Année du Baccalauréat                                                             0.0\n",
       "Enseignements de spécialité                                                       0.0\n",
       "Formation                                                                         0.0\n",
       "Nombre de candidats bacheliers ayant confirmé au moins un vœu                     0.0\n",
       "Nombre de candidats bacheliers ayant reçu au moins une proposition d'admission    0.0\n",
       "Nombre de candidats bacheliers ayant accepté une proposition d'admission          0.0\n",
       "dtype: float64"
      ]
     },
     "metadata": {},
     "output_type": "display_data"
    }
   ],
   "source": [
    "nullpercl = perc_null(dvps_df)\n",
    "display(nullpercl)"
   ]
  },
  {
   "cell_type": "markdown",
   "id": "b93d6669-f6bc-47a9-9d6d-0d65b350cede",
   "metadata": {},
   "source": [
    "Il n'y a pour ce dataset rien à effectuer."
   ]
  },
  {
   "cell_type": "markdown",
   "id": "6855b417-8b73-40ab-8041-6c960f408f19",
   "metadata": {},
   "source": [
    "Au vu de l'analyse déjà faite, la visualisation des valeurs nulles à partir d'une heatmap et d'une matrice de nullité nous a semblé dispensable après les avoir effectué. C'est pour cela que nous ne les avons pas affiché par soucis de surcharge du document à la lecture. *(Le code est tout de même ci-dessous)*"
   ]
  },
  {
   "cell_type": "raw",
   "id": "bb0f46f3-6af3-4a67-a7a3-5bebf1cab60d",
   "metadata": {},
   "source": [
    "nullpercl = perc_null(dvre2023_22_21_df)\n",
    "null_cols = nullpercl.loc[lambda x : x>0].index.tolist()\n",
    "\n",
    "nan_vals_df = dvre2023_22_21_df[null_cols]\n",
    "miss.matrix(nan_vals_df)\n",
    "plt.show()\n",
    "try:\n",
    "    miss.heatmap(nan_vals_df, figsize=(10, 8));\n",
    "except Exception:\n",
    "    pass"
   ]
  },
  {
   "cell_type": "markdown",
   "id": "ef77b6b3-d235-4118-a3c9-925fe00c0952",
   "metadata": {},
   "source": [
    "**2) Analyse réelle**"
   ]
  },
  {
   "cell_type": "markdown",
   "id": "a73f99e4-911a-49ac-b600-0abc69f179c6",
   "metadata": {},
   "source": [
    "## Modèle prédictif"
   ]
  },
  {
   "cell_type": "markdown",
   "id": "74adfa58-09c2-41d8-a18b-b8a93430a51b",
   "metadata": {},
   "source": [
    "### 1. Préparation des données pour le modèle"
   ]
  },
  {
   "cell_type": "code",
   "execution_count": 29,
   "id": "cb2e9ead-f5e4-43a9-9ecb-fe7dcf91d7fd",
   "metadata": {},
   "outputs": [],
   "source": [
    "import numpy as np\n",
    "\n",
    "# Calcul du taux de remplissage\n",
    "dvre2023_22_21_df['taux_remplissage'] = dvre2023_22_21_df['Effectif total des candidats ayant accepté la proposition de l’établissement (admis)'] / dvre2023_22_21_df['Capacité de l’établissement par formation']\n",
    "\n",
    "# Création de la colonne cible pour la classification binaire\n",
    "dvre2023_22_21_df['cible'] = np.where(dvre2023_22_21_df['taux_remplissage'] >= 1, 1, 0)\n",
    "\n",
    "# Sélection des colonnes pour les features (suppression des colonnes non nécessaires)\n",
    "X = dvre2023_22_21_df.drop(columns=['cible', 'taux_remplissage', 'Effectif total des candidats ayant accepté la proposition de l’établissement (admis)'])\n",
    "y = dvre2023_22_21_df['cible']\n"
   ]
  },
  {
   "cell_type": "markdown",
   "id": "7e5cac05-0746-4e1b-94b4-6c3b649e6882",
   "metadata": {},
   "source": [
    "### 2. Séparation des données"
   ]
  },
  {
   "cell_type": "code",
   "execution_count": 31,
   "id": "4ad9e641-a7d1-4224-8fcf-fb763acc3e46",
   "metadata": {},
   "outputs": [],
   "source": [
    "from sklearn.model_selection import train_test_split\n",
    "\n",
    "# Séparation des données en ensembles d'entraînement et de test\n",
    "X_train, X_test, y_train, y_test = train_test_split(X, y, test_size=0.2, random_state=42)"
   ]
  },
  {
   "cell_type": "markdown",
   "id": "7e19a8c3-fe20-4eba-b275-849ed236b05a",
   "metadata": {},
   "source": [
    "### 3. Prétraitement des données"
   ]
  },
  {
   "cell_type": "code",
   "execution_count": 40,
   "id": "0ac74979-1470-43f3-b1bc-83b2d1e104b2",
   "metadata": {},
   "outputs": [],
   "source": [
    "from sklearn.compose import ColumnTransformer\n",
    "from sklearn.preprocessing import StandardScaler, OneHotEncoder\n",
    "from sklearn.pipeline import Pipeline\n",
    "\n",
    "# Identification des colonnes numériques et catégorielles\n",
    "numeric_cols = X_train.select_dtypes(include=['int64', 'float64']).columns\n",
    "categorical_cols = X_train.select_dtypes(include=['object']).columns\n",
    "\n",
    "# Création des pipelines pour les transformations numériques et catégorielles\n",
    "numeric_transformer = Pipeline(steps=[\n",
    "    ('imputer', SimpleImputer(strategy='median')),\n",
    "    ('scaler', StandardScaler())])\n",
    "\n",
    "categorical_transformer = Pipeline(steps=[\n",
    "    ('imputer', SimpleImputer(strategy='most_frequent')),\n",
    "    ('onehot', OneHotEncoder(handle_unknown='ignore'))])\n",
    "\n",
    "# Combinaison des transformateurs dans un ColumnTransformer\n",
    "preprocessor = ColumnTransformer(\n",
    "    transformers=[\n",
    "        ('num', numeric_transformer, numeric_cols),\n",
    "        ('cat', categorical_transformer, categorical_cols)])\n",
    "\n",
    "# Application du préprocesseur\n",
    "X_train_processed = preprocessor.fit_transform(X_train)\n",
    "X_test_processed = preprocessor.transform(X_test)"
   ]
  },
  {
   "cell_type": "markdown",
   "id": "a52543db-6a52-4897-a28c-2b6763ff36d5",
   "metadata": {},
   "source": [
    "### 4. Création et entrainement"
   ]
  },
  {
   "cell_type": "code",
   "execution_count": 41,
   "id": "e5ddbddd-5865-43fa-9098-7707956c1918",
   "metadata": {},
   "outputs": [
    {
     "data": {
      "text/html": [
       "<style>#sk-container-id-3 {color: black;background-color: white;}#sk-container-id-3 pre{padding: 0;}#sk-container-id-3 div.sk-toggleable {background-color: white;}#sk-container-id-3 label.sk-toggleable__label {cursor: pointer;display: block;width: 100%;margin-bottom: 0;padding: 0.3em;box-sizing: border-box;text-align: center;}#sk-container-id-3 label.sk-toggleable__label-arrow:before {content: \"▸\";float: left;margin-right: 0.25em;color: #696969;}#sk-container-id-3 label.sk-toggleable__label-arrow:hover:before {color: black;}#sk-container-id-3 div.sk-estimator:hover label.sk-toggleable__label-arrow:before {color: black;}#sk-container-id-3 div.sk-toggleable__content {max-height: 0;max-width: 0;overflow: hidden;text-align: left;background-color: #f0f8ff;}#sk-container-id-3 div.sk-toggleable__content pre {margin: 0.2em;color: black;border-radius: 0.25em;background-color: #f0f8ff;}#sk-container-id-3 input.sk-toggleable__control:checked~div.sk-toggleable__content {max-height: 200px;max-width: 100%;overflow: auto;}#sk-container-id-3 input.sk-toggleable__control:checked~label.sk-toggleable__label-arrow:before {content: \"▾\";}#sk-container-id-3 div.sk-estimator input.sk-toggleable__control:checked~label.sk-toggleable__label {background-color: #d4ebff;}#sk-container-id-3 div.sk-label input.sk-toggleable__control:checked~label.sk-toggleable__label {background-color: #d4ebff;}#sk-container-id-3 input.sk-hidden--visually {border: 0;clip: rect(1px 1px 1px 1px);clip: rect(1px, 1px, 1px, 1px);height: 1px;margin: -1px;overflow: hidden;padding: 0;position: absolute;width: 1px;}#sk-container-id-3 div.sk-estimator {font-family: monospace;background-color: #f0f8ff;border: 1px dotted black;border-radius: 0.25em;box-sizing: border-box;margin-bottom: 0.5em;}#sk-container-id-3 div.sk-estimator:hover {background-color: #d4ebff;}#sk-container-id-3 div.sk-parallel-item::after {content: \"\";width: 100%;border-bottom: 1px solid gray;flex-grow: 1;}#sk-container-id-3 div.sk-label:hover label.sk-toggleable__label {background-color: #d4ebff;}#sk-container-id-3 div.sk-serial::before {content: \"\";position: absolute;border-left: 1px solid gray;box-sizing: border-box;top: 0;bottom: 0;left: 50%;z-index: 0;}#sk-container-id-3 div.sk-serial {display: flex;flex-direction: column;align-items: center;background-color: white;padding-right: 0.2em;padding-left: 0.2em;position: relative;}#sk-container-id-3 div.sk-item {position: relative;z-index: 1;}#sk-container-id-3 div.sk-parallel {display: flex;align-items: stretch;justify-content: center;background-color: white;position: relative;}#sk-container-id-3 div.sk-item::before, #sk-container-id-3 div.sk-parallel-item::before {content: \"\";position: absolute;border-left: 1px solid gray;box-sizing: border-box;top: 0;bottom: 0;left: 50%;z-index: -1;}#sk-container-id-3 div.sk-parallel-item {display: flex;flex-direction: column;z-index: 1;position: relative;background-color: white;}#sk-container-id-3 div.sk-parallel-item:first-child::after {align-self: flex-end;width: 50%;}#sk-container-id-3 div.sk-parallel-item:last-child::after {align-self: flex-start;width: 50%;}#sk-container-id-3 div.sk-parallel-item:only-child::after {width: 0;}#sk-container-id-3 div.sk-dashed-wrapped {border: 1px dashed gray;margin: 0 0.4em 0.5em 0.4em;box-sizing: border-box;padding-bottom: 0.4em;background-color: white;}#sk-container-id-3 div.sk-label label {font-family: monospace;font-weight: bold;display: inline-block;line-height: 1.2em;}#sk-container-id-3 div.sk-label-container {text-align: center;}#sk-container-id-3 div.sk-container {/* jupyter's `normalize.less` sets `[hidden] { display: none; }` but bootstrap.min.css set `[hidden] { display: none !important; }` so we also need the `!important` here to be able to override the default hidden behavior on the sphinx rendered scikit-learn.org. See: https://github.com/scikit-learn/scikit-learn/issues/21755 */display: inline-block !important;position: relative;}#sk-container-id-3 div.sk-text-repr-fallback {display: none;}</style><div id=\"sk-container-id-3\" class=\"sk-top-container\"><div class=\"sk-text-repr-fallback\"><pre>RandomForestClassifier(random_state=42)</pre><b>In a Jupyter environment, please rerun this cell to show the HTML representation or trust the notebook. <br />On GitHub, the HTML representation is unable to render, please try loading this page with nbviewer.org.</b></div><div class=\"sk-container\" hidden><div class=\"sk-item\"><div class=\"sk-estimator sk-toggleable\"><input class=\"sk-toggleable__control sk-hidden--visually\" id=\"sk-estimator-id-3\" type=\"checkbox\" checked><label for=\"sk-estimator-id-3\" class=\"sk-toggleable__label sk-toggleable__label-arrow\">RandomForestClassifier</label><div class=\"sk-toggleable__content\"><pre>RandomForestClassifier(random_state=42)</pre></div></div></div></div></div>"
      ],
      "text/plain": [
       "RandomForestClassifier(random_state=42)"
      ]
     },
     "execution_count": 41,
     "metadata": {},
     "output_type": "execute_result"
    }
   ],
   "source": [
    "from sklearn.ensemble import RandomForestClassifier\n",
    "\n",
    "# Création du modèle\n",
    "model = RandomForestClassifier(n_estimators=100, random_state=42)\n",
    "\n",
    "# Entraînement du modèle\n",
    "model.fit(X_train_processed, y_train)\n"
   ]
  },
  {
   "cell_type": "markdown",
   "id": "11c79c38-c521-48ff-a5ec-4c5572b2753f",
   "metadata": {},
   "source": [
    "### 5. Evaluation du modèle"
   ]
  },
  {
   "cell_type": "code",
   "execution_count": 35,
   "id": "95da924f-d047-4941-9760-e6bb9db52d79",
   "metadata": {},
   "outputs": [
    {
     "name": "stdout",
     "output_type": "stream",
     "text": [
      "Accuracy: 0.8198484478122708\n",
      "              precision    recall  f1-score   support\n",
      "\n",
      "           0       0.83      0.94      0.88      5970\n",
      "           1       0.76      0.49      0.59      2212\n",
      "\n",
      "    accuracy                           0.82      8182\n",
      "   macro avg       0.80      0.72      0.74      8182\n",
      "weighted avg       0.81      0.82      0.81      8182\n",
      "\n"
     ]
    }
   ],
   "source": [
    "from sklearn.metrics import accuracy_score, classification_report\n",
    "\n",
    "# Prédictions sur l'ensemble de test\n",
    "y_pred = model.predict(X_test_processed)\n",
    "\n",
    "# Évaluation du modèle\n",
    "print(\"Accuracy:\", accuracy_score(y_test, y_pred))\n",
    "print(classification_report(y_test, y_pred))\n"
   ]
  },
  {
   "cell_type": "code",
   "execution_count": 42,
   "id": "aeb2a412-d3d0-4fb7-a165-0420ab76cdc1",
   "metadata": {},
   "outputs": [
    {
     "data": {
      "image/png": "[encoded data removed]",
      "text/plain": [
       "<Figure size 640x480 with 2 Axes>"
      ]
     },
     "metadata": {},
     "output_type": "display_data"
    }
   ],
   "source": [
    "from sklearn.metrics import confusion_matrix\n",
    "import seaborn as sns\n",
    "import matplotlib.pyplot as plt\n",
    "\n",
    "# Matrice de confusion\n",
    "cm = confusion_matrix(y_test, y_pred)\n",
    "sns.heatmap(cm, annot=True, fmt=\"d\")\n",
    "plt.title('Confusion Matrix')\n",
    "plt.ylabel('Actual')\n",
    "plt.xlabel('Predicted')\n",
    "plt.show()\n",
    "\n",
    "\n",
    "#!!! A revoir"
   ]
  }
 ],
 "metadata": {
  "kernelspec": {
   "display_name": "Python 3 (ipykernel)",
   "language": "python",
   "name": "python3"
  },
  "language_info": {
   "codemirror_mode": {
    "name": "ipython",
    "version": 3
   },
   "file_extension": ".py",
   "mimetype": "text/x-python",
   "name": "python",
   "nbconvert_exporter": "python",
   "pygments_lexer": "ipython3",
   "version": "3.11.7"
  }
 },
 "nbformat": 4,
 "nbformat_minor": 5
}
